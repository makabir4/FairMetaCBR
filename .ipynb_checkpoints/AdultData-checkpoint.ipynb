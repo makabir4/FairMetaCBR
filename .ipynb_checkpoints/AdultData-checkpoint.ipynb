{
 "cells": [
  {
   "cell_type": "code",
   "execution_count": 471,
   "id": "60dda035",
   "metadata": {},
   "outputs": [],
   "source": [
    "## load \n",
    "import pandas as pd\n",
    "#dataset = pd.read_csv('Data/Adult/adult.data1.csv', sep=';')\n",
    "dataset = pd.read_csv('Data/Adult/adult.data1.csv', sep=';', na_values='?')"
   ]
  },
  {
   "cell_type": "code",
   "execution_count": 621,
   "id": "45d09963",
   "metadata": {},
   "outputs": [],
   "source": [
    "#dataset"
   ]
  },
  {
   "cell_type": "code",
   "execution_count": 473,
   "id": "8d7be103",
   "metadata": {},
   "outputs": [
    {
     "name": "stdout",
     "output_type": "stream",
     "text": [
      "age               0\n",
      "workclass         0\n",
      "fnlwgt            0\n",
      "education         0\n",
      "education-num     0\n",
      "marital-status    0\n",
      "occupation        0\n",
      "relationship      0\n",
      "race              0\n",
      "sex               0\n",
      "capital-gain      0\n",
      "capital-loss      0\n",
      "hours-per-week    0\n",
      "native-country    0\n",
      "Probability       0\n",
      "dtype: int64\n"
     ]
    }
   ],
   "source": [
    "print(dataset.isna().sum())"
   ]
  },
  {
   "cell_type": "code",
   "execution_count": 474,
   "id": "9170c5c7",
   "metadata": {},
   "outputs": [],
   "source": [
    "## Drop NULL values\n",
    "dataset = dataset.dropna()"
   ]
  },
  {
   "cell_type": "code",
   "execution_count": 620,
   "id": "787c9ff6",
   "metadata": {},
   "outputs": [],
   "source": [
    "#dataset"
   ]
  },
  {
   "cell_type": "code",
   "execution_count": 476,
   "id": "f1ee7785",
   "metadata": {},
   "outputs": [
    {
     "name": "stdout",
     "output_type": "stream",
     "text": [
      "age               0\n",
      "workclass         0\n",
      "fnlwgt            0\n",
      "education         0\n",
      "education-num     0\n",
      "marital-status    0\n",
      "occupation        0\n",
      "relationship      0\n",
      "race              0\n",
      "sex               0\n",
      "capital-gain      0\n",
      "capital-loss      0\n",
      "hours-per-week    0\n",
      "native-country    0\n",
      "Probability       0\n",
      "dtype: int64\n"
     ]
    }
   ],
   "source": [
    "print(dataset.isna().sum())"
   ]
  },
  {
   "cell_type": "code",
   "execution_count": 622,
   "id": "0e390280",
   "metadata": {},
   "outputs": [
    {
     "name": "stdout",
     "output_type": "stream",
     "text": [
      "  age workclass  fnlwgt  education education-num marital_status occupation  \\\n",
      "0  30         7   77516          9            13              4          0   \n",
      "1  50         6   83311          9            13              2          3   \n",
      "2  30         4  215646         11             9              0          5   \n",
      "3  50         4  234721          1             7              2          5   \n",
      "4  20         4  338409          9            13              2         10   \n",
      "\n",
      "  relationship race sex capital-gain capital-loss hours-per-week  \\\n",
      "0            1    0   1         2174            0             40   \n",
      "1            0    0   1            0            0             13   \n",
      "2            1    0   1            0            0             40   \n",
      "3            0    1   1            0            0             40   \n",
      "4            5    1   0            0            0             40   \n",
      "\n",
      "  native_country Probability  \n",
      "0             39           0  \n",
      "1             39           0  \n",
      "2             39           0  \n",
      "3             39           0  \n",
      "4              4           0  \n"
     ]
    }
   ],
   "source": [
    "print(dataset.head())"
   ]
  },
  {
   "cell_type": "code",
   "execution_count": 481,
   "id": "02cbea6f",
   "metadata": {},
   "outputs": [
    {
     "name": "stdout",
     "output_type": "stream",
     "text": [
      "0\n"
     ]
    }
   ],
   "source": [
    "## check NULL values\n",
    "print (dataset.isnull().values.sum())"
   ]
  },
  {
   "cell_type": "code",
   "execution_count": 483,
   "id": "68eb73af",
   "metadata": {},
   "outputs": [],
   "source": [
    "## drop NULL values\n",
    "dataset = dataset.dropna()"
   ]
  },
  {
   "cell_type": "code",
   "execution_count": 484,
   "id": "030a8ef8",
   "metadata": {},
   "outputs": [
    {
     "name": "stdout",
     "output_type": "stream",
     "text": [
      "Number of rows:  48842\n"
     ]
    }
   ],
   "source": [
    "##number of rows\n",
    "print(\"Number of rows: \",dataset.shape[0])"
   ]
  },
  {
   "cell_type": "code",
   "execution_count": 619,
   "id": "fa0de3d1",
   "metadata": {},
   "outputs": [],
   "source": [
    "#print(dataset.age)"
   ]
  },
  {
   "cell_type": "code",
   "execution_count": 618,
   "id": "dc9f80ad",
   "metadata": {},
   "outputs": [],
   "source": [
    "#print(dataset.sex)"
   ]
  },
  {
   "cell_type": "code",
   "execution_count": 612,
   "id": "9fca2c53",
   "metadata": {},
   "outputs": [],
   "source": [
    "#print(dataset.race)"
   ]
  },
  {
   "cell_type": "code",
   "execution_count": 611,
   "id": "dc9ebdaa",
   "metadata": {},
   "outputs": [],
   "source": [
    "#print(dataset.Probability)"
   ]
  },
  {
   "cell_type": "code",
   "execution_count": 489,
   "id": "8d6ebe10",
   "metadata": {},
   "outputs": [],
   "source": [
    "#Change symbolics to numerics \n",
    "import numpy as np\n",
    "dataset['sex'] = np.where(dataset['sex'] == ' Male', 1, 0)\n",
    "dataset['race'] = np.where(dataset['race'] != ' White',1, 0)\n",
    "dataset['Probability'] = np.where(dataset['Probability'] == ' <=50K', 0, 1)\n",
    "#dataset['sex'] = dataset['sex'].map({'Male':0, 'female':1})"
   ]
  },
  {
   "cell_type": "code",
   "execution_count": 610,
   "id": "6ed903cd",
   "metadata": {},
   "outputs": [],
   "source": [
    "#print(dataset.Probability)"
   ]
  },
  {
   "cell_type": "code",
   "execution_count": 609,
   "id": "58a491b4",
   "metadata": {},
   "outputs": [],
   "source": [
    "#print(dataset.race)"
   ]
  },
  {
   "cell_type": "code",
   "execution_count": 607,
   "id": "1c482740",
   "metadata": {},
   "outputs": [],
   "source": [
    "#print(dataset.sex)"
   ]
  },
  {
   "cell_type": "code",
   "execution_count": 608,
   "id": "236883f9",
   "metadata": {},
   "outputs": [],
   "source": [
    "#print(dataset.age)"
   ]
  },
  {
   "cell_type": "code",
   "execution_count": 494,
   "id": "4e76ca9f",
   "metadata": {},
   "outputs": [],
   "source": [
    "## Discretize age\n",
    "dataset['age'] = np.where(dataset['age'] >= 70, 70, dataset['age'])\n",
    "dataset['age'] = np.where((dataset['age'] >= 60 ) & (dataset['age'] < 70), 60, dataset['age'])\n",
    "dataset['age'] = np.where((dataset['age'] >= 50 ) & (dataset['age'] < 60), 50, dataset['age'])\n",
    "dataset['age'] = np.where((dataset['age'] >= 40 ) & (dataset['age'] < 50), 40, dataset['age'])\n",
    "dataset['age'] = np.where((dataset['age'] >= 30 ) & (dataset['age'] < 40), 30, dataset['age'])\n",
    "dataset['age'] = np.where((dataset['age'] >= 20 ) & (dataset['age'] < 30), 20, dataset['age'])\n",
    "dataset['age'] = np.where((dataset['age'] >= 10 ) & (dataset['age'] < 10), 10, dataset['age'])\n",
    "dataset['age'] = np.where(dataset['age'] < 10, 0, dataset['age'])"
   ]
  },
  {
   "cell_type": "code",
   "execution_count": 606,
   "id": "e21fb915",
   "metadata": {},
   "outputs": [],
   "source": [
    "#print(dataset.age)"
   ]
  },
  {
   "cell_type": "code",
   "execution_count": 496,
   "id": "234d7919",
   "metadata": {},
   "outputs": [],
   "source": [
    " #dataset.to_csv('Data/Adult/datanew.csv', index=False)"
   ]
  },
  {
   "cell_type": "code",
   "execution_count": 497,
   "id": "6b1a78fd",
   "metadata": {},
   "outputs": [
    {
     "name": "stdout",
     "output_type": "stream",
     "text": [
      "Index(['age', 'workclass', 'fnlwgt', 'education', 'education-num',\n",
      "       'marital-status', 'occupation', 'relationship', 'race', 'sex',\n",
      "       'capital-gain', 'capital-loss', 'hours-per-week', 'native-country',\n",
      "       'Probability'],\n",
      "      dtype='object')\n"
     ]
    }
   ],
   "source": [
    "print(dataset.columns)"
   ]
  },
  {
   "cell_type": "code",
   "execution_count": 605,
   "id": "e05c2b95",
   "metadata": {},
   "outputs": [],
   "source": [
    "#print(dataset)"
   ]
  },
  {
   "cell_type": "code",
   "execution_count": 499,
   "id": "31cecd13",
   "metadata": {},
   "outputs": [
    {
     "name": "stdout",
     "output_type": "stream",
     "text": [
      "[' United-States' ' Cuba' ' Jamaica' ' India' ' ?' ' Mexico' ' South'\n",
      " ' Puerto-Rico' ' Honduras' ' England' ' Canada' ' Germany' ' Iran'\n",
      " ' Philippines' ' Italy' ' Poland' ' Columbia' ' Cambodia' ' Thailand'\n",
      " ' Ecuador' ' Laos' ' Taiwan' ' Haiti' ' Portugal' ' Dominican-Republic'\n",
      " ' El-Salvador' ' France' ' Guatemala' ' China' ' Japan' ' Yugoslavia'\n",
      " ' Peru' ' Outlying-US(Guam-USVI-etc)' ' Scotland' ' Trinadad&Tobago'\n",
      " ' Greece' ' Nicaragua' ' Vietnam' ' Hong' ' Ireland' ' Hungary'\n",
      " ' Holand-Netherlands']\n"
     ]
    }
   ],
   "source": [
    "print(dataset['native-country'].unique())"
   ]
  },
  {
   "cell_type": "code",
   "execution_count": 615,
   "id": "e924d62c",
   "metadata": {},
   "outputs": [],
   "source": [
    "#print(dataset['education'].unique())"
   ]
  },
  {
   "cell_type": "code",
   "execution_count": 616,
   "id": "fba04a11",
   "metadata": {},
   "outputs": [],
   "source": [
    "#print(dataset['relationship'].unique())"
   ]
  },
  {
   "cell_type": "code",
   "execution_count": 617,
   "id": "6f6d94cc",
   "metadata": {},
   "outputs": [],
   "source": [
    "#print(dataset['occupation'].unique())"
   ]
  },
  {
   "cell_type": "code",
   "execution_count": 604,
   "id": "99031caa",
   "metadata": {},
   "outputs": [],
   "source": [
    "#dataset"
   ]
  },
  {
   "cell_type": "code",
   "execution_count": 603,
   "id": "c5c91d9b",
   "metadata": {},
   "outputs": [],
   "source": [
    "#print(dataset.columns)"
   ]
  },
  {
   "cell_type": "code",
   "execution_count": 370,
   "id": "8044ff7a",
   "metadata": {
    "scrolled": false
   },
   "outputs": [],
   "source": [
    "## drop categorical features \n",
    "##categorical_col = ['occupation','relationship','education','native-country','workclass','fnlwgt','marital-status']\n",
    "##dataset = dataset.drop(categorical_col, axis=1)"
   ]
  },
  {
   "cell_type": "code",
   "execution_count": 602,
   "id": "e869f87f",
   "metadata": {},
   "outputs": [],
   "source": [
    "#dataset"
   ]
  },
  {
   "cell_type": "code",
   "execution_count": 614,
   "id": "50bebde8",
   "metadata": {},
   "outputs": [],
   "source": [
    "#print(dataset.columns)"
   ]
  },
  {
   "cell_type": "code",
   "execution_count": 375,
   "id": "17f9e884",
   "metadata": {},
   "outputs": [],
   "source": [
    "##from sklearn.preprocessing import MinMaxScaler \n",
    "##scaler = MinMaxScaler()\n",
    "##dataset = pd.DataFrame(scaler.fit_transform(dataset), columns = dataset.columns)"
   ]
  },
  {
   "cell_type": "code",
   "execution_count": 600,
   "id": "39220332",
   "metadata": {},
   "outputs": [],
   "source": [
    "#dataset"
   ]
  },
  {
   "cell_type": "code",
   "execution_count": 380,
   "id": "c2bb39fe",
   "metadata": {},
   "outputs": [],
   "source": [
    " #Save \n",
    "#dataset.to_csv('Data/Adult/datanew.csv', index=False)"
   ]
  },
  {
   "cell_type": "code",
   "execution_count": 599,
   "id": "cc006fca",
   "metadata": {},
   "outputs": [],
   "source": [
    "#dataset['workclass'].value_counts()"
   ]
  },
  {
   "cell_type": "code",
   "execution_count": 598,
   "id": "a02809a5",
   "metadata": {},
   "outputs": [],
   "source": [
    "#dataset['workclass'].unique()"
   ]
  },
  {
   "cell_type": "code",
   "execution_count": 596,
   "id": "73cbb8f8",
   "metadata": {},
   "outputs": [],
   "source": [
    "#dataset['education'].value_counts()"
   ]
  },
  {
   "cell_type": "code",
   "execution_count": 597,
   "id": "ac189c12",
   "metadata": {},
   "outputs": [],
   "source": [
    "#dataset['occupation'].value_counts()"
   ]
  },
  {
   "cell_type": "code",
   "execution_count": 595,
   "id": "4ff05dcb",
   "metadata": {},
   "outputs": [],
   "source": [
    "#dataset['native-country'].value_counts()"
   ]
  },
  {
   "cell_type": "code",
   "execution_count": 521,
   "id": "9b751e3f",
   "metadata": {},
   "outputs": [],
   "source": [
    "## Replace '?' marks with 'NA'\n",
    "dataset = dataset.astype(str)\n",
    "dataset = dataset.apply(lambda x: x.str.strip())\n",
    "dataset = dataset.replace('?', 'NA')"
   ]
  },
  {
   "cell_type": "code",
   "execution_count": 594,
   "id": "1a46646c",
   "metadata": {},
   "outputs": [],
   "source": [
    "#dataset"
   ]
  },
  {
   "cell_type": "code",
   "execution_count": 593,
   "id": "a9a85c39",
   "metadata": {},
   "outputs": [],
   "source": [
    "#print(dataset.columns)"
   ]
  },
  {
   "cell_type": "code",
   "execution_count": 592,
   "id": "d561e601",
   "metadata": {},
   "outputs": [],
   "source": [
    "#dataset"
   ]
  },
  {
   "cell_type": "code",
   "execution_count": 590,
   "id": "55d42f81",
   "metadata": {},
   "outputs": [],
   "source": [
    "#dataset['workclass'].unique()"
   ]
  },
  {
   "cell_type": "code",
   "execution_count": 591,
   "id": "abcf2566",
   "metadata": {},
   "outputs": [],
   "source": [
    "#dataset['workclass'].value_counts()"
   ]
  },
  {
   "cell_type": "code",
   "execution_count": 541,
   "id": "4ad2d6aa",
   "metadata": {},
   "outputs": [],
   "source": [
    "from sklearn.preprocessing import LabelEncoder\n",
    "label_encoder = LabelEncoder()\n",
    "\n",
    "dataset.workclass = label_encoder.fit_transform(dataset.workclass)\n",
    "dataset.occupation = label_encoder.fit_transform(dataset.occupation)\n",
    "dataset.relationship = label_encoder.fit_transform(dataset.relationship)\n",
    "\n",
    "dataset = dataset.rename(columns={'native-country': 'native_country'})\n",
    "dataset = dataset.rename(columns={'marital-status': 'marital_status'})\n",
    "\n",
    "dataset.native_country = label_encoder.fit_transform(dataset.native_country)\n",
    "dataset.marital_status = label_encoder.fit_transform(dataset.marital_status)"
   ]
  },
  {
   "cell_type": "code",
   "execution_count": 588,
   "id": "d7a01b44",
   "metadata": {},
   "outputs": [],
   "source": [
    "#dataset.workclass"
   ]
  },
  {
   "cell_type": "code",
   "execution_count": 573,
   "id": "30af8d33",
   "metadata": {},
   "outputs": [],
   "source": [
    "## Covert as category from int number \n",
    "dataset.workclass = dataset.workclass.astype('category')\n",
    "dataset.occupation = dataset.occupation.astype('category')\n",
    "dataset.relationship = dataset.relationship.astype('category')\n",
    "dataset.native_country = dataset.native_country.astype('category')\n",
    "dataset.marital_status = dataset.marital_status.astype('category')"
   ]
  },
  {
   "cell_type": "code",
   "execution_count": 574,
   "id": "3849f0ef",
   "metadata": {},
   "outputs": [],
   "source": [
    "#dataset['fnlwgt'].value_counts()"
   ]
  },
  {
   "cell_type": "code",
   "execution_count": 582,
   "id": "8e610411",
   "metadata": {},
   "outputs": [],
   "source": [
    "#dataset['capital-loss'].value_counts()"
   ]
  },
  {
   "cell_type": "code",
   "execution_count": 587,
   "id": "7dae10c3",
   "metadata": {},
   "outputs": [],
   "source": [
    "#dataset.describe(include = 'all')"
   ]
  },
  {
   "cell_type": "code",
   "execution_count": 571,
   "id": "b63f16eb",
   "metadata": {},
   "outputs": [],
   "source": [
    "#dataset.head(50)"
   ]
  },
  {
   "cell_type": "code",
   "execution_count": 613,
   "id": "e5b61021",
   "metadata": {},
   "outputs": [],
   "source": [
    "#dataset['marital_status'].value_counts()"
   ]
  },
  {
   "cell_type": "code",
   "execution_count": null,
   "id": "55f83032",
   "metadata": {},
   "outputs": [],
   "source": []
  },
  {
   "cell_type": "code",
   "execution_count": null,
   "id": "ddbec4f2",
   "metadata": {},
   "outputs": [],
   "source": []
  },
  {
   "cell_type": "code",
   "execution_count": null,
   "id": "913d4db2",
   "metadata": {},
   "outputs": [],
   "source": []
  },
  {
   "cell_type": "code",
   "execution_count": null,
   "id": "6bb148b3",
   "metadata": {},
   "outputs": [],
   "source": [
    "## Save to csv  \n",
    "#dataset.to_csv('Data/Adult/datanew.csv', index=False)"
   ]
  }
 ],
 "metadata": {
  "kernelspec": {
   "display_name": "Python 3 (ipykernel)",
   "language": "python",
   "name": "python3"
  },
  "language_info": {
   "codemirror_mode": {
    "name": "ipython",
    "version": 3
   },
   "file_extension": ".py",
   "mimetype": "text/x-python",
   "name": "python",
   "nbconvert_exporter": "python",
   "pygments_lexer": "ipython3",
   "version": "3.9.12"
  }
 },
 "nbformat": 4,
 "nbformat_minor": 5
}
