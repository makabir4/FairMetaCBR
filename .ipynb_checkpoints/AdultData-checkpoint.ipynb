{
 "cells": [
  {
   "cell_type": "code",
   "execution_count": 193,
   "id": "60dda035",
   "metadata": {},
   "outputs": [],
   "source": [
    "## load \n",
    "import pandas as pd\n",
    "dataset = pd.read_csv('Data/Adult/adult.data1.csv', sep=';')"
   ]
  },
  {
   "cell_type": "code",
   "execution_count": 194,
   "id": "0e390280",
   "metadata": {},
   "outputs": [
    {
     "name": "stdout",
     "output_type": "stream",
     "text": [
      "   age          workclass  fnlwgt   education  education-num  \\\n",
      "0   39          State-gov   77516   Bachelors             13   \n",
      "1   50   Self-emp-not-inc   83311   Bachelors             13   \n",
      "2   38            Private  215646     HS-grad              9   \n",
      "3   53            Private  234721        11th              7   \n",
      "4   28            Private  338409   Bachelors             13   \n",
      "\n",
      "        marital-status          occupation    relationship    race      sex  \\\n",
      "0        Never-married        Adm-clerical   Not-in-family   White     Male   \n",
      "1   Married-civ-spouse     Exec-managerial         Husband   White     Male   \n",
      "2             Divorced   Handlers-cleaners   Not-in-family   White     Male   \n",
      "3   Married-civ-spouse   Handlers-cleaners         Husband   Black     Male   \n",
      "4   Married-civ-spouse      Prof-specialty            Wife   Black   Female   \n",
      "\n",
      "   capital-gain  capital-loss  hours-per-week  native-country Probability  \n",
      "0          2174             0              40   United-States       <=50K  \n",
      "1             0             0              13   United-States       <=50K  \n",
      "2             0             0              40   United-States       <=50K  \n",
      "3             0             0              40   United-States       <=50K  \n",
      "4             0             0              40            Cuba       <=50K  \n"
     ]
    }
   ],
   "source": [
    "print(dataset.head())"
   ]
  },
  {
   "cell_type": "code",
   "execution_count": 195,
   "id": "02cbea6f",
   "metadata": {},
   "outputs": [],
   "source": [
    "## check NULL values\n",
    "#print (dataset.isnull().values.sum())"
   ]
  },
  {
   "cell_type": "code",
   "execution_count": 196,
   "id": "68eb73af",
   "metadata": {},
   "outputs": [],
   "source": [
    "## drop NULL values\n",
    "#dataset = dataset_orig.dropna()"
   ]
  },
  {
   "cell_type": "code",
   "execution_count": 197,
   "id": "030a8ef8",
   "metadata": {},
   "outputs": [
    {
     "name": "stdout",
     "output_type": "stream",
     "text": [
      "Number of rows:  48842\n"
     ]
    }
   ],
   "source": [
    "##number of rows\n",
    "print(\"Number of rows: \",dataset.shape[0])"
   ]
  },
  {
   "cell_type": "code",
   "execution_count": 198,
   "id": "4cfc6e9b",
   "metadata": {},
   "outputs": [
    {
     "name": "stdout",
     "output_type": "stream",
     "text": [
      "0        39\n",
      "1        50\n",
      "2        38\n",
      "3        53\n",
      "4        28\n",
      "         ..\n",
      "48837    39\n",
      "48838    64\n",
      "48839    38\n",
      "48840    44\n",
      "48841    35\n",
      "Name: age, Length: 48842, dtype: int64\n"
     ]
    }
   ],
   "source": [
    "print(dataset.age)"
   ]
  },
  {
   "cell_type": "code",
   "execution_count": 199,
   "id": "e03436e4",
   "metadata": {},
   "outputs": [
    {
     "name": "stdout",
     "output_type": "stream",
     "text": [
      "0           Male\n",
      "1           Male\n",
      "2           Male\n",
      "3           Male\n",
      "4         Female\n",
      "          ...   \n",
      "48837     Female\n",
      "48838       Male\n",
      "48839       Male\n",
      "48840       Male\n",
      "48841       Male\n",
      "Name: sex, Length: 48842, dtype: object\n"
     ]
    }
   ],
   "source": [
    "print(dataset.sex)"
   ]
  },
  {
   "cell_type": "code",
   "execution_count": 200,
   "id": "222afc42",
   "metadata": {},
   "outputs": [
    {
     "name": "stdout",
     "output_type": "stream",
     "text": [
      "0                      White\n",
      "1                      White\n",
      "2                      White\n",
      "3                      Black\n",
      "4                      Black\n",
      "                ...         \n",
      "48837                  White\n",
      "48838                  Black\n",
      "48839                  White\n",
      "48840     Asian-Pac-Islander\n",
      "48841                  White\n",
      "Name: race, Length: 48842, dtype: object\n"
     ]
    }
   ],
   "source": [
    "print(dataset.race)"
   ]
  },
  {
   "cell_type": "code",
   "execution_count": 201,
   "id": "52660e0c",
   "metadata": {},
   "outputs": [
    {
     "name": "stdout",
     "output_type": "stream",
     "text": [
      "0         <=50K\n",
      "1         <=50K\n",
      "2         <=50K\n",
      "3         <=50K\n",
      "4         <=50K\n",
      "          ...  \n",
      "48837     <=50K\n",
      "48838     <=50K\n",
      "48839     <=50K\n",
      "48840     <=50K\n",
      "48841      >50K\n",
      "Name: Probability, Length: 48842, dtype: object\n"
     ]
    }
   ],
   "source": [
    "print(dataset.Probability)"
   ]
  },
  {
   "cell_type": "code",
   "execution_count": 202,
   "id": "b1d822a1",
   "metadata": {},
   "outputs": [],
   "source": [
    "#Change symbolics to numerics \n",
    "import numpy as np\n",
    "dataset['sex'] = np.where(dataset['sex'] == ' Male', 1, 0)\n",
    "dataset['race'] = np.where(dataset['race'] != ' White',1, 0)\n",
    "dataset['Probability'] = np.where(dataset['Probability'] == ' <=50K', 0, 1)\n",
    "#dataset['sex'] = dataset['sex'].map({'Male':0, 'female':1})"
   ]
  },
  {
   "cell_type": "code",
   "execution_count": 203,
   "id": "2e5dfb13",
   "metadata": {},
   "outputs": [
    {
     "name": "stdout",
     "output_type": "stream",
     "text": [
      "0        0\n",
      "1        0\n",
      "2        0\n",
      "3        0\n",
      "4        0\n",
      "        ..\n",
      "48837    0\n",
      "48838    0\n",
      "48839    0\n",
      "48840    0\n",
      "48841    1\n",
      "Name: Probability, Length: 48842, dtype: int64\n"
     ]
    }
   ],
   "source": [
    "print(dataset.Probability)\n"
   ]
  },
  {
   "cell_type": "code",
   "execution_count": 204,
   "id": "3c5f2c9d",
   "metadata": {},
   "outputs": [
    {
     "name": "stdout",
     "output_type": "stream",
     "text": [
      "0        0\n",
      "1        0\n",
      "2        0\n",
      "3        1\n",
      "4        1\n",
      "        ..\n",
      "48837    0\n",
      "48838    1\n",
      "48839    0\n",
      "48840    1\n",
      "48841    0\n",
      "Name: race, Length: 48842, dtype: int64\n"
     ]
    }
   ],
   "source": [
    "print(dataset.race)\n"
   ]
  },
  {
   "cell_type": "code",
   "execution_count": 205,
   "id": "6ce54ea5",
   "metadata": {},
   "outputs": [
    {
     "name": "stdout",
     "output_type": "stream",
     "text": [
      "0        1\n",
      "1        1\n",
      "2        1\n",
      "3        1\n",
      "4        0\n",
      "        ..\n",
      "48837    0\n",
      "48838    1\n",
      "48839    1\n",
      "48840    1\n",
      "48841    1\n",
      "Name: sex, Length: 48842, dtype: int64\n"
     ]
    }
   ],
   "source": [
    "print(dataset.sex)\n"
   ]
  },
  {
   "cell_type": "code",
   "execution_count": 206,
   "id": "da0b93f6",
   "metadata": {},
   "outputs": [
    {
     "name": "stdout",
     "output_type": "stream",
     "text": [
      "0        39\n",
      "1        50\n",
      "2        38\n",
      "3        53\n",
      "4        28\n",
      "         ..\n",
      "48837    39\n",
      "48838    64\n",
      "48839    38\n",
      "48840    44\n",
      "48841    35\n",
      "Name: age, Length: 48842, dtype: int64\n"
     ]
    }
   ],
   "source": [
    "print(dataset.age)"
   ]
  },
  {
   "cell_type": "code",
   "execution_count": 211,
   "id": "c56c107d",
   "metadata": {},
   "outputs": [],
   "source": [
    "## Discretize age\n",
    "dataset['age'] = np.where(dataset['age'] >= 70, 70, dataset['age'])\n",
    "dataset['age'] = np.where((dataset['age'] >= 60 ) & (dataset['age'] < 70), 60, dataset['age'])\n",
    "dataset['age'] = np.where((dataset['age'] >= 50 ) & (dataset['age'] < 60), 50, dataset['age'])\n",
    "dataset['age'] = np.where((dataset['age'] >= 40 ) & (dataset['age'] < 50), 40, dataset['age'])\n",
    "dataset['age'] = np.where((dataset['age'] >= 30 ) & (dataset['age'] < 40), 30, dataset['age'])\n",
    "dataset['age'] = np.where((dataset['age'] >= 20 ) & (dataset['age'] < 30), 20, dataset['age'])\n",
    "dataset['age'] = np.where((dataset['age'] >= 10 ) & (dataset['age'] < 10), 10, dataset['age'])\n",
    "dataset['age'] = np.where(dataset['age'] < 10, 0, dataset['age'])"
   ]
  },
  {
   "cell_type": "code",
   "execution_count": 212,
   "id": "6b3217b4",
   "metadata": {},
   "outputs": [
    {
     "name": "stdout",
     "output_type": "stream",
     "text": [
      "0        30\n",
      "1        50\n",
      "2        30\n",
      "3        50\n",
      "4        20\n",
      "         ..\n",
      "48837    30\n",
      "48838    60\n",
      "48839    30\n",
      "48840    40\n",
      "48841    30\n",
      "Name: age, Length: 48842, dtype: int64\n"
     ]
    }
   ],
   "source": [
    "print(dataset.age)"
   ]
  },
  {
   "cell_type": "code",
   "execution_count": 213,
   "id": "60ef36ce",
   "metadata": {},
   "outputs": [],
   "source": [
    " dataset.to_csv('Data/Adult/datanew.csv', index=False)"
   ]
  },
  {
   "cell_type": "code",
   "execution_count": 216,
   "id": "e14818c6",
   "metadata": {},
   "outputs": [
    {
     "name": "stdout",
     "output_type": "stream",
     "text": [
      "Index(['age', 'workclass', 'fnlwgt', 'education', 'education-num',\n",
      "       'marital-status', 'occupation', 'relationship', 'race', 'sex',\n",
      "       'capital-gain', 'capital-loss', 'hours-per-week', 'native-country',\n",
      "       'Probability'],\n",
      "      dtype='object')\n"
     ]
    }
   ],
   "source": [
    "print(dataset.columns)"
   ]
  },
  {
   "cell_type": "code",
   "execution_count": 219,
   "id": "b15dfd2f",
   "metadata": {},
   "outputs": [
    {
     "name": "stdout",
     "output_type": "stream",
     "text": [
      "age                int64\n",
      "workclass         object\n",
      "fnlwgt             int64\n",
      "education         object\n",
      "education-num      int64\n",
      "marital-status    object\n",
      "occupation        object\n",
      "relationship      object\n",
      "race               int64\n",
      "sex                int64\n",
      "capital-gain       int64\n",
      "capital-loss       int64\n",
      "hours-per-week     int64\n",
      "native-country    object\n",
      "Probability        int64\n",
      "dtype: object\n"
     ]
    }
   ],
   "source": [
    "print(dataset.dtypes)"
   ]
  },
  {
   "cell_type": "code",
   "execution_count": 221,
   "id": "8166c64a",
   "metadata": {},
   "outputs": [
    {
     "name": "stdout",
     "output_type": "stream",
     "text": [
      "[' United-States' ' Cuba' ' Jamaica' ' India' ' ?' ' Mexico' ' South'\n",
      " ' Puerto-Rico' ' Honduras' ' England' ' Canada' ' Germany' ' Iran'\n",
      " ' Philippines' ' Italy' ' Poland' ' Columbia' ' Cambodia' ' Thailand'\n",
      " ' Ecuador' ' Laos' ' Taiwan' ' Haiti' ' Portugal' ' Dominican-Republic'\n",
      " ' El-Salvador' ' France' ' Guatemala' ' China' ' Japan' ' Yugoslavia'\n",
      " ' Peru' ' Outlying-US(Guam-USVI-etc)' ' Scotland' ' Trinadad&Tobago'\n",
      " ' Greece' ' Nicaragua' ' Vietnam' ' Hong' ' Ireland' ' Hungary'\n",
      " ' Holand-Netherlands']\n"
     ]
    }
   ],
   "source": [
    "print(dataset['native-country'].unique())"
   ]
  },
  {
   "cell_type": "code",
   "execution_count": 222,
   "id": "59867693",
   "metadata": {},
   "outputs": [
    {
     "name": "stdout",
     "output_type": "stream",
     "text": [
      "[' Bachelors' ' HS-grad' ' 11th' ' Masters' ' 9th' ' Some-college'\n",
      " ' Assoc-acdm' ' Assoc-voc' ' 7th-8th' ' Doctorate' ' Prof-school'\n",
      " ' 5th-6th' ' 10th' ' 1st-4th' ' Preschool' ' 12th']\n"
     ]
    }
   ],
   "source": [
    "print(dataset['education'].unique())"
   ]
  },
  {
   "cell_type": "code",
   "execution_count": 224,
   "id": "f6f6c137",
   "metadata": {},
   "outputs": [
    {
     "name": "stdout",
     "output_type": "stream",
     "text": [
      "[' Not-in-family' ' Husband' ' Wife' ' Own-child' ' Unmarried'\n",
      " ' Other-relative']\n"
     ]
    }
   ],
   "source": [
    "print(dataset['relationship'].unique())"
   ]
  },
  {
   "cell_type": "code",
   "execution_count": 225,
   "id": "88517ca3",
   "metadata": {},
   "outputs": [
    {
     "name": "stdout",
     "output_type": "stream",
     "text": [
      "[' Adm-clerical' ' Exec-managerial' ' Handlers-cleaners' ' Prof-specialty'\n",
      " ' Other-service' ' Sales' ' Craft-repair' ' Transport-moving'\n",
      " ' Farming-fishing' ' Machine-op-inspct' ' Tech-support' ' ?'\n",
      " ' Protective-serv' ' Armed-Forces' ' Priv-house-serv']\n"
     ]
    }
   ],
   "source": [
    "print(dataset['occupation'].unique())"
   ]
  },
  {
   "cell_type": "code",
   "execution_count": null,
   "id": "bd06cf04",
   "metadata": {},
   "outputs": [],
   "source": []
  }
 ],
 "metadata": {
  "kernelspec": {
   "display_name": "Python 3 (ipykernel)",
   "language": "python",
   "name": "python3"
  },
  "language_info": {
   "codemirror_mode": {
    "name": "ipython",
    "version": 3
   },
   "file_extension": ".py",
   "mimetype": "text/x-python",
   "name": "python",
   "nbconvert_exporter": "python",
   "pygments_lexer": "ipython3",
   "version": "3.9.12"
  }
 },
 "nbformat": 4,
 "nbformat_minor": 5
}
