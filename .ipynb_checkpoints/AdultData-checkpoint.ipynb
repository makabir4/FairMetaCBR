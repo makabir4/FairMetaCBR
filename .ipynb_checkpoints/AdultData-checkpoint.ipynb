{
 "cells": [
  {
   "cell_type": "code",
   "execution_count": 1,
   "id": "60dda035",
   "metadata": {},
   "outputs": [],
   "source": [
    "## load \n",
    "import pandas as pd\n",
    "#dataset = pd.read_csv('Data/Adult/adult.data1.csv', sep=';')\n",
    "dataset = pd.read_csv('Data/Adult/adult.data1.csv', sep=';', na_values='?')"
   ]
  },
  {
   "cell_type": "code",
   "execution_count": 8,
   "id": "45d09963",
   "metadata": {},
   "outputs": [],
   "source": [
    "#dataset"
   ]
  },
  {
   "cell_type": "code",
   "execution_count": 2,
   "id": "8d7be103",
   "metadata": {
    "scrolled": true
   },
   "outputs": [
    {
     "name": "stdout",
     "output_type": "stream",
     "text": [
      "age               0\n",
      "workclass         0\n",
      "fnlwgt            0\n",
      "education         0\n",
      "education-num     0\n",
      "marital-status    0\n",
      "occupation        0\n",
      "relationship      0\n",
      "race              0\n",
      "sex               0\n",
      "capital-gain      0\n",
      "capital-loss      0\n",
      "hours-per-week    0\n",
      "native-country    0\n",
      "Probability       0\n",
      "dtype: int64\n"
     ]
    }
   ],
   "source": [
    "print(dataset.isna().sum())"
   ]
  },
  {
   "cell_type": "code",
   "execution_count": 3,
   "id": "9170c5c7",
   "metadata": {},
   "outputs": [],
   "source": [
    "## Drop NULL values\n",
    "dataset = dataset.dropna()"
   ]
  },
  {
   "cell_type": "code",
   "execution_count": 4,
   "id": "787c9ff6",
   "metadata": {},
   "outputs": [],
   "source": [
    "#dataset"
   ]
  },
  {
   "cell_type": "code",
   "execution_count": 5,
   "id": "f1ee7785",
   "metadata": {},
   "outputs": [
    {
     "name": "stdout",
     "output_type": "stream",
     "text": [
      "age               0\n",
      "workclass         0\n",
      "fnlwgt            0\n",
      "education         0\n",
      "education-num     0\n",
      "marital-status    0\n",
      "occupation        0\n",
      "relationship      0\n",
      "race              0\n",
      "sex               0\n",
      "capital-gain      0\n",
      "capital-loss      0\n",
      "hours-per-week    0\n",
      "native-country    0\n",
      "Probability       0\n",
      "dtype: int64\n"
     ]
    }
   ],
   "source": [
    "print(dataset.isna().sum())"
   ]
  },
  {
   "cell_type": "code",
   "execution_count": 6,
   "id": "0e390280",
   "metadata": {},
   "outputs": [
    {
     "name": "stdout",
     "output_type": "stream",
     "text": [
      "   age          workclass  fnlwgt   education  education-num  \\\n",
      "0   39          State-gov   77516   Bachelors             13   \n",
      "1   50   Self-emp-not-inc   83311   Bachelors             13   \n",
      "2   38            Private  215646     HS-grad              9   \n",
      "3   53            Private  234721        11th              7   \n",
      "4   28            Private  338409   Bachelors             13   \n",
      "\n",
      "        marital-status          occupation    relationship    race      sex  \\\n",
      "0        Never-married        Adm-clerical   Not-in-family   White     Male   \n",
      "1   Married-civ-spouse     Exec-managerial         Husband   White     Male   \n",
      "2             Divorced   Handlers-cleaners   Not-in-family   White     Male   \n",
      "3   Married-civ-spouse   Handlers-cleaners         Husband   Black     Male   \n",
      "4   Married-civ-spouse      Prof-specialty            Wife   Black   Female   \n",
      "\n",
      "   capital-gain  capital-loss  hours-per-week  native-country Probability  \n",
      "0          2174             0              40   United-States       <=50K  \n",
      "1             0             0              13   United-States       <=50K  \n",
      "2             0             0              40   United-States       <=50K  \n",
      "3             0             0              40   United-States       <=50K  \n",
      "4             0             0              40            Cuba       <=50K  \n"
     ]
    }
   ],
   "source": [
    "print(dataset.head())"
   ]
  },
  {
   "cell_type": "code",
   "execution_count": 7,
   "id": "02cbea6f",
   "metadata": {},
   "outputs": [
    {
     "name": "stdout",
     "output_type": "stream",
     "text": [
      "0\n"
     ]
    }
   ],
   "source": [
    "## check NULL values\n",
    "print (dataset.isnull().values.sum())"
   ]
  },
  {
   "cell_type": "code",
   "execution_count": 8,
   "id": "68eb73af",
   "metadata": {},
   "outputs": [],
   "source": [
    "## drop NULL values\n",
    "dataset = dataset.dropna()"
   ]
  },
  {
   "cell_type": "code",
   "execution_count": 9,
   "id": "030a8ef8",
   "metadata": {},
   "outputs": [
    {
     "name": "stdout",
     "output_type": "stream",
     "text": [
      "Number of rows:  48842\n"
     ]
    }
   ],
   "source": [
    "##number of rows\n",
    "print(\"Number of rows: \",dataset.shape[0])"
   ]
  },
  {
   "cell_type": "code",
   "execution_count": 10,
   "id": "fa0de3d1",
   "metadata": {},
   "outputs": [],
   "source": [
    "#print(dataset.age)"
   ]
  },
  {
   "cell_type": "code",
   "execution_count": 11,
   "id": "dc9f80ad",
   "metadata": {},
   "outputs": [],
   "source": [
    "#print(dataset.sex)"
   ]
  },
  {
   "cell_type": "code",
   "execution_count": 12,
   "id": "9fca2c53",
   "metadata": {},
   "outputs": [],
   "source": [
    "#print(dataset.race)"
   ]
  },
  {
   "cell_type": "code",
   "execution_count": 13,
   "id": "dc9ebdaa",
   "metadata": {},
   "outputs": [],
   "source": [
    "#print(dataset.Probability)"
   ]
  },
  {
   "cell_type": "code",
   "execution_count": 14,
   "id": "8d6ebe10",
   "metadata": {},
   "outputs": [],
   "source": [
    "#Change symbolics to numerics \n",
    "import numpy as np\n",
    "dataset['sex'] = np.where(dataset['sex'] == ' Male', 1, 0)\n",
    "dataset['race'] = np.where(dataset['race'] != ' White',1, 0)\n",
    "dataset['Probability'] = np.where(dataset['Probability'] == ' <=50K', 0, 1)\n",
    "#dataset['sex'] = dataset['sex'].map({'Male':0, 'female':1})"
   ]
  },
  {
   "cell_type": "code",
   "execution_count": 15,
   "id": "6ed903cd",
   "metadata": {},
   "outputs": [],
   "source": [
    "#print(dataset.Probability)"
   ]
  },
  {
   "cell_type": "code",
   "execution_count": 16,
   "id": "58a491b4",
   "metadata": {},
   "outputs": [],
   "source": [
    "#print(dataset.race)"
   ]
  },
  {
   "cell_type": "code",
   "execution_count": 17,
   "id": "1c482740",
   "metadata": {},
   "outputs": [],
   "source": [
    "#print(dataset.sex)"
   ]
  },
  {
   "cell_type": "code",
   "execution_count": 18,
   "id": "236883f9",
   "metadata": {},
   "outputs": [],
   "source": [
    "#print(dataset.age)"
   ]
  },
  {
   "cell_type": "code",
   "execution_count": 19,
   "id": "4e76ca9f",
   "metadata": {},
   "outputs": [],
   "source": [
    "## Discretize age\n",
    "dataset['age'] = np.where(dataset['age'] >= 70, 70, dataset['age'])\n",
    "dataset['age'] = np.where((dataset['age'] >= 60 ) & (dataset['age'] < 70), 60, dataset['age'])\n",
    "dataset['age'] = np.where((dataset['age'] >= 50 ) & (dataset['age'] < 60), 50, dataset['age'])\n",
    "dataset['age'] = np.where((dataset['age'] >= 40 ) & (dataset['age'] < 50), 40, dataset['age'])\n",
    "dataset['age'] = np.where((dataset['age'] >= 30 ) & (dataset['age'] < 40), 30, dataset['age'])\n",
    "dataset['age'] = np.where((dataset['age'] >= 20 ) & (dataset['age'] < 30), 20, dataset['age'])\n",
    "dataset['age'] = np.where((dataset['age'] >= 10 ) & (dataset['age'] < 10), 10, dataset['age'])\n",
    "dataset['age'] = np.where(dataset['age'] < 10, 0, dataset['age'])"
   ]
  },
  {
   "cell_type": "code",
   "execution_count": 20,
   "id": "e21fb915",
   "metadata": {},
   "outputs": [],
   "source": [
    "#print(dataset.age)"
   ]
  },
  {
   "cell_type": "code",
   "execution_count": 21,
   "id": "234d7919",
   "metadata": {},
   "outputs": [],
   "source": [
    " #dataset.to_csv('Data/Adult/datanew.csv', index=False)"
   ]
  },
  {
   "cell_type": "code",
   "execution_count": 22,
   "id": "6b1a78fd",
   "metadata": {},
   "outputs": [
    {
     "name": "stdout",
     "output_type": "stream",
     "text": [
      "Index(['age', 'workclass', 'fnlwgt', 'education', 'education-num',\n",
      "       'marital-status', 'occupation', 'relationship', 'race', 'sex',\n",
      "       'capital-gain', 'capital-loss', 'hours-per-week', 'native-country',\n",
      "       'Probability'],\n",
      "      dtype='object')\n"
     ]
    }
   ],
   "source": [
    "print(dataset.columns)"
   ]
  },
  {
   "cell_type": "code",
   "execution_count": 23,
   "id": "e05c2b95",
   "metadata": {},
   "outputs": [],
   "source": [
    "#print(dataset)"
   ]
  },
  {
   "cell_type": "code",
   "execution_count": 24,
   "id": "31cecd13",
   "metadata": {},
   "outputs": [
    {
     "name": "stdout",
     "output_type": "stream",
     "text": [
      "[' United-States' ' Cuba' ' Jamaica' ' India' ' ?' ' Mexico' ' South'\n",
      " ' Puerto-Rico' ' Honduras' ' England' ' Canada' ' Germany' ' Iran'\n",
      " ' Philippines' ' Italy' ' Poland' ' Columbia' ' Cambodia' ' Thailand'\n",
      " ' Ecuador' ' Laos' ' Taiwan' ' Haiti' ' Portugal' ' Dominican-Republic'\n",
      " ' El-Salvador' ' France' ' Guatemala' ' China' ' Japan' ' Yugoslavia'\n",
      " ' Peru' ' Outlying-US(Guam-USVI-etc)' ' Scotland' ' Trinadad&Tobago'\n",
      " ' Greece' ' Nicaragua' ' Vietnam' ' Hong' ' Ireland' ' Hungary'\n",
      " ' Holand-Netherlands']\n"
     ]
    }
   ],
   "source": [
    "print(dataset['native-country'].unique())"
   ]
  },
  {
   "cell_type": "code",
   "execution_count": 25,
   "id": "e924d62c",
   "metadata": {},
   "outputs": [],
   "source": [
    "#print(dataset['education'].unique())"
   ]
  },
  {
   "cell_type": "code",
   "execution_count": 26,
   "id": "fba04a11",
   "metadata": {},
   "outputs": [],
   "source": [
    "#print(dataset['relationship'].unique())"
   ]
  },
  {
   "cell_type": "code",
   "execution_count": 27,
   "id": "6f6d94cc",
   "metadata": {},
   "outputs": [],
   "source": [
    "#print(dataset['occupation'].unique())"
   ]
  },
  {
   "cell_type": "code",
   "execution_count": 28,
   "id": "99031caa",
   "metadata": {},
   "outputs": [],
   "source": [
    "#dataset"
   ]
  },
  {
   "cell_type": "code",
   "execution_count": 29,
   "id": "c5c91d9b",
   "metadata": {},
   "outputs": [],
   "source": [
    "#print(dataset.columns)"
   ]
  },
  {
   "cell_type": "code",
   "execution_count": 30,
   "id": "8044ff7a",
   "metadata": {
    "scrolled": false
   },
   "outputs": [],
   "source": [
    "## drop categorical features \n",
    "##categorical_col = ['occupation','relationship','education','native-country','workclass','fnlwgt','marital-status']\n",
    "##dataset = dataset.drop(categorical_col, axis=1)"
   ]
  },
  {
   "cell_type": "code",
   "execution_count": 31,
   "id": "e869f87f",
   "metadata": {},
   "outputs": [],
   "source": [
    "#dataset"
   ]
  },
  {
   "cell_type": "code",
   "execution_count": 32,
   "id": "50bebde8",
   "metadata": {},
   "outputs": [],
   "source": [
    "#print(dataset.columns)"
   ]
  },
  {
   "cell_type": "code",
   "execution_count": 33,
   "id": "17f9e884",
   "metadata": {},
   "outputs": [],
   "source": [
    "##from sklearn.preprocessing import MinMaxScaler \n",
    "##scaler = MinMaxScaler()\n",
    "##dataset = pd.DataFrame(scaler.fit_transform(dataset), columns = dataset.columns)"
   ]
  },
  {
   "cell_type": "code",
   "execution_count": 34,
   "id": "39220332",
   "metadata": {},
   "outputs": [],
   "source": [
    "#dataset"
   ]
  },
  {
   "cell_type": "code",
   "execution_count": 35,
   "id": "c2bb39fe",
   "metadata": {},
   "outputs": [],
   "source": [
    " #Save \n",
    "#dataset.to_csv('Data/Adult/datanew.csv', index=False)"
   ]
  },
  {
   "cell_type": "code",
   "execution_count": 36,
   "id": "cc006fca",
   "metadata": {},
   "outputs": [],
   "source": [
    "#dataset['workclass'].value_counts()"
   ]
  },
  {
   "cell_type": "code",
   "execution_count": 37,
   "id": "a02809a5",
   "metadata": {},
   "outputs": [],
   "source": [
    "#dataset['workclass'].unique()"
   ]
  },
  {
   "cell_type": "code",
   "execution_count": 38,
   "id": "73cbb8f8",
   "metadata": {},
   "outputs": [],
   "source": [
    "#dataset['education'].value_counts()"
   ]
  },
  {
   "cell_type": "code",
   "execution_count": 39,
   "id": "ac189c12",
   "metadata": {},
   "outputs": [],
   "source": [
    "#dataset['occupation'].value_counts()"
   ]
  },
  {
   "cell_type": "code",
   "execution_count": 40,
   "id": "4ff05dcb",
   "metadata": {},
   "outputs": [],
   "source": [
    "#dataset['native-country'].value_counts()"
   ]
  },
  {
   "cell_type": "code",
   "execution_count": 41,
   "id": "9b751e3f",
   "metadata": {},
   "outputs": [],
   "source": [
    "## Replace '?' marks with 'NA'\n",
    "dataset = dataset.astype(str)\n",
    "dataset = dataset.apply(lambda x: x.str.strip())\n",
    "dataset = dataset.replace('?', 'NA')"
   ]
  },
  {
   "cell_type": "code",
   "execution_count": 42,
   "id": "1a46646c",
   "metadata": {},
   "outputs": [],
   "source": [
    "#dataset"
   ]
  },
  {
   "cell_type": "code",
   "execution_count": 43,
   "id": "a9a85c39",
   "metadata": {},
   "outputs": [],
   "source": [
    "#print(dataset.columns)"
   ]
  },
  {
   "cell_type": "code",
   "execution_count": 44,
   "id": "d561e601",
   "metadata": {},
   "outputs": [],
   "source": [
    "#dataset"
   ]
  },
  {
   "cell_type": "code",
   "execution_count": 45,
   "id": "55d42f81",
   "metadata": {},
   "outputs": [],
   "source": [
    "#dataset['workclass'].unique()"
   ]
  },
  {
   "cell_type": "code",
   "execution_count": 46,
   "id": "abcf2566",
   "metadata": {},
   "outputs": [],
   "source": [
    "#dataset['workclass'].value_counts()"
   ]
  },
  {
   "cell_type": "code",
   "execution_count": 47,
   "id": "4ad2d6aa",
   "metadata": {},
   "outputs": [],
   "source": [
    "from sklearn.preprocessing import LabelEncoder\n",
    "label_encoder = LabelEncoder()\n",
    "\n",
    "dataset.workclass = label_encoder.fit_transform(dataset.workclass)\n",
    "dataset.occupation = label_encoder.fit_transform(dataset.occupation)\n",
    "dataset.relationship = label_encoder.fit_transform(dataset.relationship)\n",
    "dataset.education = label_encoder.fit_transform(dataset.education)\n",
    "\n",
    "dataset = dataset.rename(columns={'native-country': 'native_country'})\n",
    "dataset = dataset.rename(columns={'marital-status': 'marital_status'})\n",
    "\n",
    "dataset.native_country = label_encoder.fit_transform(dataset.native_country)\n",
    "dataset.marital_status = label_encoder.fit_transform(dataset.marital_status)"
   ]
  },
  {
   "cell_type": "code",
   "execution_count": 48,
   "id": "d7a01b44",
   "metadata": {},
   "outputs": [],
   "source": [
    "#dataset.workclass"
   ]
  },
  {
   "cell_type": "code",
   "execution_count": 49,
   "id": "30af8d33",
   "metadata": {},
   "outputs": [],
   "source": [
    "## Covert as category from int number \n",
    "#dataset.workclass = dataset.workclass.astype('category')\n",
    "#dataset.occupation = dataset.occupation.astype('category')\n",
    "#dataset.relationship = dataset.relationship.astype('category')\n",
    "#dataset.native_country = dataset.native_country.astype('category')\n",
    "#dataset.marital_status = dataset.marital_status.astype('category')"
   ]
  },
  {
   "cell_type": "code",
   "execution_count": 50,
   "id": "3849f0ef",
   "metadata": {},
   "outputs": [],
   "source": [
    "#dataset['fnlwgt'].value_counts()"
   ]
  },
  {
   "cell_type": "code",
   "execution_count": 51,
   "id": "8e610411",
   "metadata": {},
   "outputs": [],
   "source": [
    "#dataset['capital-loss'].value_counts()"
   ]
  },
  {
   "cell_type": "code",
   "execution_count": 52,
   "id": "7dae10c3",
   "metadata": {},
   "outputs": [],
   "source": [
    "#dataset.describe(include = 'all')"
   ]
  },
  {
   "cell_type": "code",
   "execution_count": 53,
   "id": "b63f16eb",
   "metadata": {},
   "outputs": [],
   "source": [
    "#dataset.head(50)"
   ]
  },
  {
   "cell_type": "code",
   "execution_count": 54,
   "id": "e5b61021",
   "metadata": {},
   "outputs": [],
   "source": [
    "#dataset['marital_status'].value_counts()"
   ]
  },
  {
   "cell_type": "code",
   "execution_count": 55,
   "id": "ffe7d7cc",
   "metadata": {
    "scrolled": false
   },
   "outputs": [
    {
     "data": {
      "text/plain": [
       "Index(['age', 'workclass', 'fnlwgt', 'education', 'education-num',\n",
       "       'marital_status', 'occupation', 'relationship', 'race', 'sex',\n",
       "       'capital-gain', 'capital-loss', 'hours-per-week', 'native_country',\n",
       "       'Probability'],\n",
       "      dtype='object')"
      ]
     },
     "execution_count": 55,
     "metadata": {},
     "output_type": "execute_result"
    }
   ],
   "source": [
    "dataset.columns"
   ]
  },
  {
   "cell_type": "code",
   "execution_count": 56,
   "id": "cae69a65",
   "metadata": {},
   "outputs": [
    {
     "data": {
      "text/html": [
       "<div>\n",
       "<style scoped>\n",
       "    .dataframe tbody tr th:only-of-type {\n",
       "        vertical-align: middle;\n",
       "    }\n",
       "\n",
       "    .dataframe tbody tr th {\n",
       "        vertical-align: top;\n",
       "    }\n",
       "\n",
       "    .dataframe thead th {\n",
       "        text-align: right;\n",
       "    }\n",
       "</style>\n",
       "<table border=\"1\" class=\"dataframe\">\n",
       "  <thead>\n",
       "    <tr style=\"text-align: right;\">\n",
       "      <th></th>\n",
       "      <th>age</th>\n",
       "      <th>workclass</th>\n",
       "      <th>fnlwgt</th>\n",
       "      <th>education</th>\n",
       "      <th>education-num</th>\n",
       "      <th>marital_status</th>\n",
       "      <th>occupation</th>\n",
       "      <th>relationship</th>\n",
       "      <th>race</th>\n",
       "      <th>sex</th>\n",
       "      <th>capital-gain</th>\n",
       "      <th>capital-loss</th>\n",
       "      <th>hours-per-week</th>\n",
       "      <th>native_country</th>\n",
       "      <th>Probability</th>\n",
       "    </tr>\n",
       "  </thead>\n",
       "  <tbody>\n",
       "    <tr>\n",
       "      <th>0</th>\n",
       "      <td>30</td>\n",
       "      <td>7</td>\n",
       "      <td>77516</td>\n",
       "      <td>Bachelors</td>\n",
       "      <td>13</td>\n",
       "      <td>4</td>\n",
       "      <td>0</td>\n",
       "      <td>1</td>\n",
       "      <td>0</td>\n",
       "      <td>1</td>\n",
       "      <td>2174</td>\n",
       "      <td>0</td>\n",
       "      <td>40</td>\n",
       "      <td>39</td>\n",
       "      <td>0</td>\n",
       "    </tr>\n",
       "    <tr>\n",
       "      <th>1</th>\n",
       "      <td>50</td>\n",
       "      <td>6</td>\n",
       "      <td>83311</td>\n",
       "      <td>Bachelors</td>\n",
       "      <td>13</td>\n",
       "      <td>2</td>\n",
       "      <td>3</td>\n",
       "      <td>0</td>\n",
       "      <td>0</td>\n",
       "      <td>1</td>\n",
       "      <td>0</td>\n",
       "      <td>0</td>\n",
       "      <td>13</td>\n",
       "      <td>39</td>\n",
       "      <td>0</td>\n",
       "    </tr>\n",
       "    <tr>\n",
       "      <th>2</th>\n",
       "      <td>30</td>\n",
       "      <td>4</td>\n",
       "      <td>215646</td>\n",
       "      <td>HS-grad</td>\n",
       "      <td>9</td>\n",
       "      <td>0</td>\n",
       "      <td>5</td>\n",
       "      <td>1</td>\n",
       "      <td>0</td>\n",
       "      <td>1</td>\n",
       "      <td>0</td>\n",
       "      <td>0</td>\n",
       "      <td>40</td>\n",
       "      <td>39</td>\n",
       "      <td>0</td>\n",
       "    </tr>\n",
       "    <tr>\n",
       "      <th>3</th>\n",
       "      <td>50</td>\n",
       "      <td>4</td>\n",
       "      <td>234721</td>\n",
       "      <td>11th</td>\n",
       "      <td>7</td>\n",
       "      <td>2</td>\n",
       "      <td>5</td>\n",
       "      <td>0</td>\n",
       "      <td>1</td>\n",
       "      <td>1</td>\n",
       "      <td>0</td>\n",
       "      <td>0</td>\n",
       "      <td>40</td>\n",
       "      <td>39</td>\n",
       "      <td>0</td>\n",
       "    </tr>\n",
       "    <tr>\n",
       "      <th>4</th>\n",
       "      <td>20</td>\n",
       "      <td>4</td>\n",
       "      <td>338409</td>\n",
       "      <td>Bachelors</td>\n",
       "      <td>13</td>\n",
       "      <td>2</td>\n",
       "      <td>10</td>\n",
       "      <td>5</td>\n",
       "      <td>1</td>\n",
       "      <td>0</td>\n",
       "      <td>0</td>\n",
       "      <td>0</td>\n",
       "      <td>40</td>\n",
       "      <td>4</td>\n",
       "      <td>0</td>\n",
       "    </tr>\n",
       "    <tr>\n",
       "      <th>...</th>\n",
       "      <td>...</td>\n",
       "      <td>...</td>\n",
       "      <td>...</td>\n",
       "      <td>...</td>\n",
       "      <td>...</td>\n",
       "      <td>...</td>\n",
       "      <td>...</td>\n",
       "      <td>...</td>\n",
       "      <td>...</td>\n",
       "      <td>...</td>\n",
       "      <td>...</td>\n",
       "      <td>...</td>\n",
       "      <td>...</td>\n",
       "      <td>...</td>\n",
       "      <td>...</td>\n",
       "    </tr>\n",
       "    <tr>\n",
       "      <th>48837</th>\n",
       "      <td>30</td>\n",
       "      <td>4</td>\n",
       "      <td>215419</td>\n",
       "      <td>Bachelors</td>\n",
       "      <td>13</td>\n",
       "      <td>0</td>\n",
       "      <td>10</td>\n",
       "      <td>1</td>\n",
       "      <td>0</td>\n",
       "      <td>0</td>\n",
       "      <td>0</td>\n",
       "      <td>0</td>\n",
       "      <td>36</td>\n",
       "      <td>39</td>\n",
       "      <td>0</td>\n",
       "    </tr>\n",
       "    <tr>\n",
       "      <th>48838</th>\n",
       "      <td>60</td>\n",
       "      <td>2</td>\n",
       "      <td>321403</td>\n",
       "      <td>HS-grad</td>\n",
       "      <td>9</td>\n",
       "      <td>6</td>\n",
       "      <td>7</td>\n",
       "      <td>2</td>\n",
       "      <td>1</td>\n",
       "      <td>1</td>\n",
       "      <td>0</td>\n",
       "      <td>0</td>\n",
       "      <td>40</td>\n",
       "      <td>39</td>\n",
       "      <td>0</td>\n",
       "    </tr>\n",
       "    <tr>\n",
       "      <th>48839</th>\n",
       "      <td>30</td>\n",
       "      <td>4</td>\n",
       "      <td>374983</td>\n",
       "      <td>Bachelors</td>\n",
       "      <td>13</td>\n",
       "      <td>2</td>\n",
       "      <td>10</td>\n",
       "      <td>0</td>\n",
       "      <td>0</td>\n",
       "      <td>1</td>\n",
       "      <td>0</td>\n",
       "      <td>0</td>\n",
       "      <td>50</td>\n",
       "      <td>39</td>\n",
       "      <td>0</td>\n",
       "    </tr>\n",
       "    <tr>\n",
       "      <th>48840</th>\n",
       "      <td>40</td>\n",
       "      <td>4</td>\n",
       "      <td>83891</td>\n",
       "      <td>Bachelors</td>\n",
       "      <td>13</td>\n",
       "      <td>0</td>\n",
       "      <td>0</td>\n",
       "      <td>3</td>\n",
       "      <td>1</td>\n",
       "      <td>1</td>\n",
       "      <td>5455</td>\n",
       "      <td>0</td>\n",
       "      <td>40</td>\n",
       "      <td>39</td>\n",
       "      <td>0</td>\n",
       "    </tr>\n",
       "    <tr>\n",
       "      <th>48841</th>\n",
       "      <td>30</td>\n",
       "      <td>5</td>\n",
       "      <td>182148</td>\n",
       "      <td>Bachelors</td>\n",
       "      <td>13</td>\n",
       "      <td>2</td>\n",
       "      <td>3</td>\n",
       "      <td>0</td>\n",
       "      <td>0</td>\n",
       "      <td>1</td>\n",
       "      <td>0</td>\n",
       "      <td>0</td>\n",
       "      <td>60</td>\n",
       "      <td>39</td>\n",
       "      <td>1</td>\n",
       "    </tr>\n",
       "  </tbody>\n",
       "</table>\n",
       "<p>48842 rows × 15 columns</p>\n",
       "</div>"
      ],
      "text/plain": [
       "      age  workclass  fnlwgt  education education-num  marital_status  \\\n",
       "0      30          7   77516  Bachelors            13               4   \n",
       "1      50          6   83311  Bachelors            13               2   \n",
       "2      30          4  215646    HS-grad             9               0   \n",
       "3      50          4  234721       11th             7               2   \n",
       "4      20          4  338409  Bachelors            13               2   \n",
       "...    ..        ...     ...        ...           ...             ...   \n",
       "48837  30          4  215419  Bachelors            13               0   \n",
       "48838  60          2  321403    HS-grad             9               6   \n",
       "48839  30          4  374983  Bachelors            13               2   \n",
       "48840  40          4   83891  Bachelors            13               0   \n",
       "48841  30          5  182148  Bachelors            13               2   \n",
       "\n",
       "       occupation  relationship race sex capital-gain capital-loss  \\\n",
       "0               0             1    0   1         2174            0   \n",
       "1               3             0    0   1            0            0   \n",
       "2               5             1    0   1            0            0   \n",
       "3               5             0    1   1            0            0   \n",
       "4              10             5    1   0            0            0   \n",
       "...           ...           ...  ...  ..          ...          ...   \n",
       "48837          10             1    0   0            0            0   \n",
       "48838           7             2    1   1            0            0   \n",
       "48839          10             0    0   1            0            0   \n",
       "48840           0             3    1   1         5455            0   \n",
       "48841           3             0    0   1            0            0   \n",
       "\n",
       "      hours-per-week  native_country Probability  \n",
       "0                 40              39           0  \n",
       "1                 13              39           0  \n",
       "2                 40              39           0  \n",
       "3                 40              39           0  \n",
       "4                 40               4           0  \n",
       "...              ...             ...         ...  \n",
       "48837             36              39           0  \n",
       "48838             40              39           0  \n",
       "48839             50              39           0  \n",
       "48840             40              39           0  \n",
       "48841             60              39           1  \n",
       "\n",
       "[48842 rows x 15 columns]"
      ]
     },
     "execution_count": 56,
     "metadata": {},
     "output_type": "execute_result"
    }
   ],
   "source": [
    "dataset"
   ]
  },
  {
   "cell_type": "code",
   "execution_count": 57,
   "id": "a3c914cd",
   "metadata": {},
   "outputs": [],
   "source": [
    "\n",
    "features_df = dataset.iloc[:, :14]\n",
    "features_array = features_df.to_numpy()\n"
   ]
  },
  {
   "cell_type": "code",
   "execution_count": 58,
   "id": "e3d120f2",
   "metadata": {},
   "outputs": [],
   "source": [
    "target_col = dataset['Probability']\n",
    "target_array = target_col.to_numpy()"
   ]
  },
  {
   "cell_type": "code",
   "execution_count": 59,
   "id": "7c31d95b",
   "metadata": {
    "scrolled": true
   },
   "outputs": [
    {
     "data": {
      "text/plain": [
       "array([['30', 7, '77516', ..., '0', '40', 39],\n",
       "       ['50', 6, '83311', ..., '0', '13', 39],\n",
       "       ['30', 4, '215646', ..., '0', '40', 39],\n",
       "       ...,\n",
       "       ['30', 4, '374983', ..., '0', '50', 39],\n",
       "       ['40', 4, '83891', ..., '0', '40', 39],\n",
       "       ['30', 5, '182148', ..., '0', '60', 39]], dtype=object)"
      ]
     },
     "execution_count": 59,
     "metadata": {},
     "output_type": "execute_result"
    }
   ],
   "source": [
    "#feature_cols = [col for col in dataset.columns if col != 'Probability']\n",
    "#target_col = 'Probability'\n",
    "features_array"
   ]
  },
  {
   "cell_type": "code",
   "execution_count": 60,
   "id": "74f57ea5",
   "metadata": {},
   "outputs": [
    {
     "ename": "ValueError",
     "evalue": "could not convert string to float: 'Bachelors'",
     "output_type": "error",
     "traceback": [
      "\u001b[0;31m---------------------------------------------------------------------------\u001b[0m",
      "\u001b[0;31mValueError\u001b[0m                                Traceback (most recent call last)",
      "Input \u001b[0;32mIn [60]\u001b[0m, in \u001b[0;36m<cell line: 1>\u001b[0;34m()\u001b[0m\n\u001b[0;32m----> 1\u001b[0m features_array \u001b[38;5;241m=\u001b[39m \u001b[43mfeatures_array\u001b[49m\u001b[38;5;241;43m.\u001b[39;49m\u001b[43mastype\u001b[49m\u001b[43m(\u001b[49m\u001b[38;5;28;43mfloat\u001b[39;49m\u001b[43m)\u001b[49m\n",
      "\u001b[0;31mValueError\u001b[0m: could not convert string to float: 'Bachelors'"
     ]
    }
   ],
   "source": [
    "features_array = features_array.astype(float)\n"
   ]
  },
  {
   "cell_type": "code",
   "execution_count": 67,
   "id": "73520c15",
   "metadata": {},
   "outputs": [
    {
     "data": {
      "text/plain": [
       "array(['0', '0', '0', ..., '0', '0', '1'], dtype=object)"
      ]
     },
     "execution_count": 67,
     "metadata": {},
     "output_type": "execute_result"
    }
   ],
   "source": [
    "target_array"
   ]
  },
  {
   "cell_type": "code",
   "execution_count": 68,
   "id": "36f9d2d5",
   "metadata": {},
   "outputs": [],
   "source": [
    "#data = pd.DataFrame(columns=dataset[feature_cols])\n",
    "#tar = pd.DataFrame(columns=dataset[target_col])"
   ]
  },
  {
   "cell_type": "code",
   "execution_count": 69,
   "id": "add724ea",
   "metadata": {
    "scrolled": true
   },
   "outputs": [],
   "source": [
    "#import numpy as np\n",
    "#X = np.array(dataset[feature_cols])\n",
    "#y = np.array(dataset['Probability'])\n",
    "\n"
   ]
  },
  {
   "cell_type": "code",
   "execution_count": 70,
   "id": "e605fdb3",
   "metadata": {},
   "outputs": [],
   "source": [
    "#X"
   ]
  },
  {
   "cell_type": "code",
   "execution_count": 71,
   "id": "6f3a2580",
   "metadata": {},
   "outputs": [],
   "source": [
    "#y"
   ]
  },
  {
   "cell_type": "code",
   "execution_count": null,
   "id": "6dd40152",
   "metadata": {},
   "outputs": [
    {
     "name": "stderr",
     "output_type": "stream",
     "text": [
      "/Users/mkr01/opt/anaconda3/lib/python3.9/site-packages/pymfe/_internal.py:1568: UserWarning: It is not possible make equal discretization\n",
      "  warnings.warn(\"It is not possible make equal discretization\")\n"
     ]
    }
   ],
   "source": [
    "from pymfe.mfe import MFE\n",
    "mfe = MFE(summary=[\"quantiles\"])\n",
    "mfe.fit(features_array, target_array)\n",
    "ft = mfe.extract()\n",
    "print(ft)\n"
   ]
  },
  {
   "cell_type": "code",
   "execution_count": null,
   "id": "6bb148b3",
   "metadata": {},
   "outputs": [],
   "source": [
    "## Save to csv  \n",
    "#dataset.to_csv('Data/Adult/datanew.csv', index=False)"
   ]
  },
  {
   "cell_type": "code",
   "execution_count": null,
   "id": "3a0abbaf",
   "metadata": {},
   "outputs": [],
   "source": []
  }
 ],
 "metadata": {
  "kernelspec": {
   "display_name": "Python 3 (ipykernel)",
   "language": "python",
   "name": "python3"
  },
  "language_info": {
   "codemirror_mode": {
    "name": "ipython",
    "version": 3
   },
   "file_extension": ".py",
   "mimetype": "text/x-python",
   "name": "python",
   "nbconvert_exporter": "python",
   "pygments_lexer": "ipython3",
   "version": "3.9.12"
  }
 },
 "nbformat": 4,
 "nbformat_minor": 5
}
