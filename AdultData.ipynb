{
 "cells": [
  {
   "cell_type": "code",
   "execution_count": 1,
   "id": "60dda035",
   "metadata": {},
   "outputs": [],
   "source": [
    "## load \n",
    "import pandas as pd\n",
    "#dataset = pd.read_csv('Data/Adult/adult.data1.csv', sep=';')\n",
    "dataset = pd.read_csv('Data/Adult/adult.data1.csv', sep=';', na_values='?')"
   ]
  },
  {
   "cell_type": "code",
   "execution_count": 2,
   "id": "45d09963",
   "metadata": {},
   "outputs": [],
   "source": [
    "#dataset"
   ]
  },
  {
   "cell_type": "code",
   "execution_count": 3,
   "id": "8d7be103",
   "metadata": {
    "scrolled": true
   },
   "outputs": [
    {
     "name": "stdout",
     "output_type": "stream",
     "text": [
      "age               0\n",
      "workclass         0\n",
      "fnlwgt            0\n",
      "education         0\n",
      "education-num     0\n",
      "marital-status    0\n",
      "occupation        0\n",
      "relationship      0\n",
      "race              0\n",
      "sex               0\n",
      "capital-gain      0\n",
      "capital-loss      0\n",
      "hours-per-week    0\n",
      "native-country    0\n",
      "Probability       0\n",
      "dtype: int64\n"
     ]
    }
   ],
   "source": [
    "print(dataset.isna().sum())"
   ]
  },
  {
   "cell_type": "code",
   "execution_count": 4,
   "id": "9170c5c7",
   "metadata": {},
   "outputs": [],
   "source": [
    "## Drop NULL values\n",
    "dataset = dataset.dropna()"
   ]
  },
  {
   "cell_type": "code",
   "execution_count": 5,
   "id": "787c9ff6",
   "metadata": {},
   "outputs": [],
   "source": [
    "#dataset"
   ]
  },
  {
   "cell_type": "code",
   "execution_count": 6,
   "id": "f1ee7785",
   "metadata": {},
   "outputs": [
    {
     "name": "stdout",
     "output_type": "stream",
     "text": [
      "age               0\n",
      "workclass         0\n",
      "fnlwgt            0\n",
      "education         0\n",
      "education-num     0\n",
      "marital-status    0\n",
      "occupation        0\n",
      "relationship      0\n",
      "race              0\n",
      "sex               0\n",
      "capital-gain      0\n",
      "capital-loss      0\n",
      "hours-per-week    0\n",
      "native-country    0\n",
      "Probability       0\n",
      "dtype: int64\n"
     ]
    }
   ],
   "source": [
    "print(dataset.isna().sum())"
   ]
  },
  {
   "cell_type": "code",
   "execution_count": 7,
   "id": "0e390280",
   "metadata": {},
   "outputs": [
    {
     "name": "stdout",
     "output_type": "stream",
     "text": [
      "   age          workclass  fnlwgt   education  education-num  \\\n",
      "0   39          State-gov   77516   Bachelors             13   \n",
      "1   50   Self-emp-not-inc   83311   Bachelors             13   \n",
      "2   38            Private  215646     HS-grad              9   \n",
      "3   53            Private  234721        11th              7   \n",
      "4   28            Private  338409   Bachelors             13   \n",
      "\n",
      "        marital-status          occupation    relationship    race      sex  \\\n",
      "0        Never-married        Adm-clerical   Not-in-family   White     Male   \n",
      "1   Married-civ-spouse     Exec-managerial         Husband   White     Male   \n",
      "2             Divorced   Handlers-cleaners   Not-in-family   White     Male   \n",
      "3   Married-civ-spouse   Handlers-cleaners         Husband   Black     Male   \n",
      "4   Married-civ-spouse      Prof-specialty            Wife   Black   Female   \n",
      "\n",
      "   capital-gain  capital-loss  hours-per-week  native-country Probability  \n",
      "0          2174             0              40   United-States       <=50K  \n",
      "1             0             0              13   United-States       <=50K  \n",
      "2             0             0              40   United-States       <=50K  \n",
      "3             0             0              40   United-States       <=50K  \n",
      "4             0             0              40            Cuba       <=50K  \n"
     ]
    }
   ],
   "source": [
    "print(dataset.head())"
   ]
  },
  {
   "cell_type": "code",
   "execution_count": 8,
   "id": "02cbea6f",
   "metadata": {},
   "outputs": [
    {
     "name": "stdout",
     "output_type": "stream",
     "text": [
      "0\n"
     ]
    }
   ],
   "source": [
    "## check NULL values\n",
    "print (dataset.isnull().values.sum())"
   ]
  },
  {
   "cell_type": "code",
   "execution_count": 9,
   "id": "68eb73af",
   "metadata": {},
   "outputs": [],
   "source": [
    "## drop NULL values\n",
    "dataset = dataset.dropna()"
   ]
  },
  {
   "cell_type": "code",
   "execution_count": 10,
   "id": "030a8ef8",
   "metadata": {},
   "outputs": [
    {
     "name": "stdout",
     "output_type": "stream",
     "text": [
      "Number of rows:  48842\n"
     ]
    }
   ],
   "source": [
    "##number of rows\n",
    "print(\"Number of rows: \",dataset.shape[0])"
   ]
  },
  {
   "cell_type": "code",
   "execution_count": 11,
   "id": "fa0de3d1",
   "metadata": {},
   "outputs": [],
   "source": [
    "#print(dataset.age)"
   ]
  },
  {
   "cell_type": "code",
   "execution_count": 12,
   "id": "dc9f80ad",
   "metadata": {},
   "outputs": [],
   "source": [
    "#print(dataset.sex)"
   ]
  },
  {
   "cell_type": "code",
   "execution_count": 13,
   "id": "9fca2c53",
   "metadata": {},
   "outputs": [],
   "source": [
    "#print(dataset.race)"
   ]
  },
  {
   "cell_type": "code",
   "execution_count": 14,
   "id": "dc9ebdaa",
   "metadata": {},
   "outputs": [],
   "source": [
    "#print(dataset.Probability)"
   ]
  },
  {
   "cell_type": "code",
   "execution_count": 15,
   "id": "8d6ebe10",
   "metadata": {},
   "outputs": [],
   "source": [
    "#Change symbolics to numerics \n",
    "import numpy as np\n",
    "dataset['sex'] = np.where(dataset['sex'] == ' Male', 1, 0)\n",
    "dataset['race'] = np.where(dataset['race'] != ' White',1, 0)\n",
    "dataset['Probability'] = np.where(dataset['Probability'] == ' <=50K', 0, 1)\n",
    "#dataset['sex'] = dataset['sex'].map({'Male':0, 'female':1})"
   ]
  },
  {
   "cell_type": "code",
   "execution_count": 16,
   "id": "6ed903cd",
   "metadata": {},
   "outputs": [],
   "source": [
    "#print(dataset.Probability)"
   ]
  },
  {
   "cell_type": "code",
   "execution_count": 17,
   "id": "58a491b4",
   "metadata": {},
   "outputs": [],
   "source": [
    "#print(dataset.race)"
   ]
  },
  {
   "cell_type": "code",
   "execution_count": 18,
   "id": "1c482740",
   "metadata": {},
   "outputs": [],
   "source": [
    "#print(dataset.sex)"
   ]
  },
  {
   "cell_type": "code",
   "execution_count": 19,
   "id": "236883f9",
   "metadata": {},
   "outputs": [],
   "source": [
    "#print(dataset.age)"
   ]
  },
  {
   "cell_type": "code",
   "execution_count": 20,
   "id": "4e76ca9f",
   "metadata": {},
   "outputs": [],
   "source": [
    "## Discretize age\n",
    "dataset['age'] = np.where(dataset['age'] >= 70, 70, dataset['age'])\n",
    "dataset['age'] = np.where((dataset['age'] >= 60 ) & (dataset['age'] < 70), 60, dataset['age'])\n",
    "dataset['age'] = np.where((dataset['age'] >= 50 ) & (dataset['age'] < 60), 50, dataset['age'])\n",
    "dataset['age'] = np.where((dataset['age'] >= 40 ) & (dataset['age'] < 50), 40, dataset['age'])\n",
    "dataset['age'] = np.where((dataset['age'] >= 30 ) & (dataset['age'] < 40), 30, dataset['age'])\n",
    "dataset['age'] = np.where((dataset['age'] >= 20 ) & (dataset['age'] < 30), 20, dataset['age'])\n",
    "dataset['age'] = np.where((dataset['age'] >= 10 ) & (dataset['age'] < 10), 10, dataset['age'])\n",
    "dataset['age'] = np.where(dataset['age'] < 10, 0, dataset['age'])"
   ]
  },
  {
   "cell_type": "code",
   "execution_count": 21,
   "id": "e21fb915",
   "metadata": {},
   "outputs": [],
   "source": [
    "#print(dataset.age)"
   ]
  },
  {
   "cell_type": "code",
   "execution_count": 22,
   "id": "234d7919",
   "metadata": {},
   "outputs": [],
   "source": [
    " #dataset.to_csv('Data/Adult/datanew.csv', index=False)"
   ]
  },
  {
   "cell_type": "code",
   "execution_count": 23,
   "id": "6b1a78fd",
   "metadata": {},
   "outputs": [
    {
     "name": "stdout",
     "output_type": "stream",
     "text": [
      "Index(['age', 'workclass', 'fnlwgt', 'education', 'education-num',\n",
      "       'marital-status', 'occupation', 'relationship', 'race', 'sex',\n",
      "       'capital-gain', 'capital-loss', 'hours-per-week', 'native-country',\n",
      "       'Probability'],\n",
      "      dtype='object')\n"
     ]
    }
   ],
   "source": [
    "print(dataset.columns)"
   ]
  },
  {
   "cell_type": "code",
   "execution_count": 24,
   "id": "e05c2b95",
   "metadata": {},
   "outputs": [],
   "source": [
    "#print(dataset)"
   ]
  },
  {
   "cell_type": "code",
   "execution_count": 25,
   "id": "31cecd13",
   "metadata": {
    "scrolled": true
   },
   "outputs": [
    {
     "name": "stdout",
     "output_type": "stream",
     "text": [
      "[' United-States' ' Cuba' ' Jamaica' ' India' ' ?' ' Mexico' ' South'\n",
      " ' Puerto-Rico' ' Honduras' ' England' ' Canada' ' Germany' ' Iran'\n",
      " ' Philippines' ' Italy' ' Poland' ' Columbia' ' Cambodia' ' Thailand'\n",
      " ' Ecuador' ' Laos' ' Taiwan' ' Haiti' ' Portugal' ' Dominican-Republic'\n",
      " ' El-Salvador' ' France' ' Guatemala' ' China' ' Japan' ' Yugoslavia'\n",
      " ' Peru' ' Outlying-US(Guam-USVI-etc)' ' Scotland' ' Trinadad&Tobago'\n",
      " ' Greece' ' Nicaragua' ' Vietnam' ' Hong' ' Ireland' ' Hungary'\n",
      " ' Holand-Netherlands']\n"
     ]
    }
   ],
   "source": [
    "print(dataset['native-country'].unique())"
   ]
  },
  {
   "cell_type": "code",
   "execution_count": 26,
   "id": "e924d62c",
   "metadata": {},
   "outputs": [],
   "source": [
    "#print(dataset['education'].unique())"
   ]
  },
  {
   "cell_type": "code",
   "execution_count": 27,
   "id": "fba04a11",
   "metadata": {},
   "outputs": [],
   "source": [
    "#print(dataset['relationship'].unique())"
   ]
  },
  {
   "cell_type": "code",
   "execution_count": 28,
   "id": "6f6d94cc",
   "metadata": {},
   "outputs": [],
   "source": [
    "#print(dataset['occupation'].unique())"
   ]
  },
  {
   "cell_type": "code",
   "execution_count": 29,
   "id": "99031caa",
   "metadata": {},
   "outputs": [],
   "source": [
    "#dataset"
   ]
  },
  {
   "cell_type": "code",
   "execution_count": 30,
   "id": "c5c91d9b",
   "metadata": {},
   "outputs": [],
   "source": [
    "#print(dataset.columns)"
   ]
  },
  {
   "cell_type": "code",
   "execution_count": 31,
   "id": "8044ff7a",
   "metadata": {
    "scrolled": false
   },
   "outputs": [],
   "source": [
    "## drop categorical features \n",
    "##categorical_col = ['occupation','relationship','education','native-country','workclass','fnlwgt','marital-status']\n",
    "##dataset = dataset.drop(categorical_col, axis=1)"
   ]
  },
  {
   "cell_type": "code",
   "execution_count": 32,
   "id": "e869f87f",
   "metadata": {},
   "outputs": [],
   "source": [
    "#dataset"
   ]
  },
  {
   "cell_type": "code",
   "execution_count": 33,
   "id": "50bebde8",
   "metadata": {},
   "outputs": [],
   "source": [
    "#print(dataset.columns)"
   ]
  },
  {
   "cell_type": "code",
   "execution_count": 34,
   "id": "17f9e884",
   "metadata": {},
   "outputs": [],
   "source": [
    "##from sklearn.preprocessing import MinMaxScaler \n",
    "##scaler = MinMaxScaler()\n",
    "##dataset = pd.DataFrame(scaler.fit_transform(dataset), columns = dataset.columns)"
   ]
  },
  {
   "cell_type": "code",
   "execution_count": 35,
   "id": "39220332",
   "metadata": {},
   "outputs": [],
   "source": [
    "#dataset"
   ]
  },
  {
   "cell_type": "code",
   "execution_count": 36,
   "id": "c2bb39fe",
   "metadata": {},
   "outputs": [],
   "source": [
    " #Save \n",
    "#dataset.to_csv('Data/Adult/datanew.csv', index=False)"
   ]
  },
  {
   "cell_type": "code",
   "execution_count": 37,
   "id": "cc006fca",
   "metadata": {},
   "outputs": [],
   "source": [
    "#dataset['workclass'].value_counts()"
   ]
  },
  {
   "cell_type": "code",
   "execution_count": 38,
   "id": "a02809a5",
   "metadata": {},
   "outputs": [],
   "source": [
    "#dataset['workclass'].unique()"
   ]
  },
  {
   "cell_type": "code",
   "execution_count": 39,
   "id": "73cbb8f8",
   "metadata": {},
   "outputs": [],
   "source": [
    "#dataset['education'].value_counts()"
   ]
  },
  {
   "cell_type": "code",
   "execution_count": 40,
   "id": "ac189c12",
   "metadata": {},
   "outputs": [],
   "source": [
    "#dataset['occupation'].value_counts()"
   ]
  },
  {
   "cell_type": "code",
   "execution_count": 41,
   "id": "4ff05dcb",
   "metadata": {},
   "outputs": [],
   "source": [
    "#dataset['native-country'].value_counts()"
   ]
  },
  {
   "cell_type": "code",
   "execution_count": 26,
   "id": "9b751e3f",
   "metadata": {},
   "outputs": [],
   "source": [
    "## Replace '?' marks with 'NA'\n",
    "dataset = dataset.astype(str)\n",
    "dataset = dataset.apply(lambda x: x.str.strip())\n",
    "dataset = dataset.replace('?', 'NA')"
   ]
  },
  {
   "cell_type": "code",
   "execution_count": 43,
   "id": "1a46646c",
   "metadata": {},
   "outputs": [],
   "source": [
    "#dataset"
   ]
  },
  {
   "cell_type": "code",
   "execution_count": 44,
   "id": "a9a85c39",
   "metadata": {},
   "outputs": [],
   "source": [
    "#print(dataset.columns)"
   ]
  },
  {
   "cell_type": "code",
   "execution_count": 45,
   "id": "d561e601",
   "metadata": {},
   "outputs": [],
   "source": [
    "#dataset"
   ]
  },
  {
   "cell_type": "code",
   "execution_count": 46,
   "id": "55d42f81",
   "metadata": {},
   "outputs": [],
   "source": [
    "#dataset['workclass'].unique()"
   ]
  },
  {
   "cell_type": "code",
   "execution_count": 47,
   "id": "abcf2566",
   "metadata": {},
   "outputs": [],
   "source": [
    "#dataset['workclass'].value_counts()"
   ]
  },
  {
   "cell_type": "code",
   "execution_count": 27,
   "id": "4ad2d6aa",
   "metadata": {},
   "outputs": [],
   "source": [
    "from sklearn.preprocessing import LabelEncoder\n",
    "label_encoder = LabelEncoder()\n",
    "\n",
    "dataset.workclass = label_encoder.fit_transform(dataset.workclass)\n",
    "dataset.occupation = label_encoder.fit_transform(dataset.occupation)\n",
    "dataset.relationship = label_encoder.fit_transform(dataset.relationship)\n",
    "dataset.education = label_encoder.fit_transform(dataset.education)\n",
    "\n",
    "dataset = dataset.rename(columns={'native-country': 'native_country'})\n",
    "dataset = dataset.rename(columns={'marital-status': 'marital_status'})\n",
    "\n",
    "dataset.native_country = label_encoder.fit_transform(dataset.native_country)\n",
    "dataset.marital_status = label_encoder.fit_transform(dataset.marital_status)"
   ]
  },
  {
   "cell_type": "code",
   "execution_count": 49,
   "id": "d7a01b44",
   "metadata": {},
   "outputs": [],
   "source": [
    "#dataset.workclass"
   ]
  },
  {
   "cell_type": "code",
   "execution_count": 50,
   "id": "30af8d33",
   "metadata": {},
   "outputs": [],
   "source": [
    "## Covert as category from int number \n",
    "#dataset.workclass = dataset.workclass.astype('category')\n",
    "#dataset.occupation = dataset.occupation.astype('category')\n",
    "#dataset.relationship = dataset.relationship.astype('category')\n",
    "#dataset.native_country = dataset.native_country.astype('category')\n",
    "#dataset.marital_status = dataset.marital_status.astype('category')"
   ]
  },
  {
   "cell_type": "code",
   "execution_count": 51,
   "id": "3849f0ef",
   "metadata": {},
   "outputs": [],
   "source": [
    "#dataset['fnlwgt'].value_counts()"
   ]
  },
  {
   "cell_type": "code",
   "execution_count": 52,
   "id": "8e610411",
   "metadata": {},
   "outputs": [],
   "source": [
    "#dataset['capital-loss'].value_counts()"
   ]
  },
  {
   "cell_type": "code",
   "execution_count": 53,
   "id": "7dae10c3",
   "metadata": {},
   "outputs": [],
   "source": [
    "#dataset.describe(include = 'all')"
   ]
  },
  {
   "cell_type": "code",
   "execution_count": 54,
   "id": "b63f16eb",
   "metadata": {},
   "outputs": [],
   "source": [
    "#dataset.head(50)"
   ]
  },
  {
   "cell_type": "code",
   "execution_count": 55,
   "id": "e5b61021",
   "metadata": {},
   "outputs": [],
   "source": [
    "#dataset['marital_status'].value_counts()"
   ]
  },
  {
   "cell_type": "code",
   "execution_count": 28,
   "id": "ffe7d7cc",
   "metadata": {
    "scrolled": false
   },
   "outputs": [
    {
     "data": {
      "text/plain": [
       "Index(['age', 'workclass', 'fnlwgt', 'education', 'education-num',\n",
       "       'marital_status', 'occupation', 'relationship', 'race', 'sex',\n",
       "       'capital-gain', 'capital-loss', 'hours-per-week', 'native_country',\n",
       "       'Probability'],\n",
       "      dtype='object')"
      ]
     },
     "execution_count": 28,
     "metadata": {},
     "output_type": "execute_result"
    }
   ],
   "source": [
    "dataset.columns"
   ]
  },
  {
   "cell_type": "code",
   "execution_count": 41,
   "id": "fe71b743",
   "metadata": {},
   "outputs": [
    {
     "data": {
      "text/html": [
       "<div>\n",
       "<style scoped>\n",
       "    .dataframe tbody tr th:only-of-type {\n",
       "        vertical-align: middle;\n",
       "    }\n",
       "\n",
       "    .dataframe tbody tr th {\n",
       "        vertical-align: top;\n",
       "    }\n",
       "\n",
       "    .dataframe thead th {\n",
       "        text-align: right;\n",
       "    }\n",
       "</style>\n",
       "<table border=\"1\" class=\"dataframe\">\n",
       "  <thead>\n",
       "    <tr style=\"text-align: right;\">\n",
       "      <th></th>\n",
       "      <th>age</th>\n",
       "      <th>workclass</th>\n",
       "      <th>fnlwgt</th>\n",
       "      <th>education</th>\n",
       "      <th>education-num</th>\n",
       "      <th>marital_status</th>\n",
       "      <th>occupation</th>\n",
       "      <th>relationship</th>\n",
       "      <th>race</th>\n",
       "      <th>sex</th>\n",
       "      <th>capital-gain</th>\n",
       "      <th>capital-loss</th>\n",
       "      <th>hours-per-week</th>\n",
       "      <th>native_country</th>\n",
       "      <th>Probability</th>\n",
       "    </tr>\n",
       "  </thead>\n",
       "  <tbody>\n",
       "    <tr>\n",
       "      <th>0</th>\n",
       "      <td>30</td>\n",
       "      <td>7</td>\n",
       "      <td>77516</td>\n",
       "      <td>9</td>\n",
       "      <td>13</td>\n",
       "      <td>4</td>\n",
       "      <td>0</td>\n",
       "      <td>1</td>\n",
       "      <td>0</td>\n",
       "      <td>1</td>\n",
       "      <td>2174</td>\n",
       "      <td>0</td>\n",
       "      <td>40</td>\n",
       "      <td>39</td>\n",
       "      <td>0</td>\n",
       "    </tr>\n",
       "    <tr>\n",
       "      <th>1</th>\n",
       "      <td>50</td>\n",
       "      <td>6</td>\n",
       "      <td>83311</td>\n",
       "      <td>9</td>\n",
       "      <td>13</td>\n",
       "      <td>2</td>\n",
       "      <td>3</td>\n",
       "      <td>0</td>\n",
       "      <td>0</td>\n",
       "      <td>1</td>\n",
       "      <td>0</td>\n",
       "      <td>0</td>\n",
       "      <td>13</td>\n",
       "      <td>39</td>\n",
       "      <td>0</td>\n",
       "    </tr>\n",
       "    <tr>\n",
       "      <th>2</th>\n",
       "      <td>30</td>\n",
       "      <td>4</td>\n",
       "      <td>215646</td>\n",
       "      <td>11</td>\n",
       "      <td>9</td>\n",
       "      <td>0</td>\n",
       "      <td>5</td>\n",
       "      <td>1</td>\n",
       "      <td>0</td>\n",
       "      <td>1</td>\n",
       "      <td>0</td>\n",
       "      <td>0</td>\n",
       "      <td>40</td>\n",
       "      <td>39</td>\n",
       "      <td>0</td>\n",
       "    </tr>\n",
       "    <tr>\n",
       "      <th>3</th>\n",
       "      <td>50</td>\n",
       "      <td>4</td>\n",
       "      <td>234721</td>\n",
       "      <td>1</td>\n",
       "      <td>7</td>\n",
       "      <td>2</td>\n",
       "      <td>5</td>\n",
       "      <td>0</td>\n",
       "      <td>1</td>\n",
       "      <td>1</td>\n",
       "      <td>0</td>\n",
       "      <td>0</td>\n",
       "      <td>40</td>\n",
       "      <td>39</td>\n",
       "      <td>0</td>\n",
       "    </tr>\n",
       "    <tr>\n",
       "      <th>4</th>\n",
       "      <td>20</td>\n",
       "      <td>4</td>\n",
       "      <td>338409</td>\n",
       "      <td>9</td>\n",
       "      <td>13</td>\n",
       "      <td>2</td>\n",
       "      <td>10</td>\n",
       "      <td>5</td>\n",
       "      <td>1</td>\n",
       "      <td>0</td>\n",
       "      <td>0</td>\n",
       "      <td>0</td>\n",
       "      <td>40</td>\n",
       "      <td>4</td>\n",
       "      <td>0</td>\n",
       "    </tr>\n",
       "    <tr>\n",
       "      <th>...</th>\n",
       "      <td>...</td>\n",
       "      <td>...</td>\n",
       "      <td>...</td>\n",
       "      <td>...</td>\n",
       "      <td>...</td>\n",
       "      <td>...</td>\n",
       "      <td>...</td>\n",
       "      <td>...</td>\n",
       "      <td>...</td>\n",
       "      <td>...</td>\n",
       "      <td>...</td>\n",
       "      <td>...</td>\n",
       "      <td>...</td>\n",
       "      <td>...</td>\n",
       "      <td>...</td>\n",
       "    </tr>\n",
       "    <tr>\n",
       "      <th>48837</th>\n",
       "      <td>30</td>\n",
       "      <td>4</td>\n",
       "      <td>215419</td>\n",
       "      <td>9</td>\n",
       "      <td>13</td>\n",
       "      <td>0</td>\n",
       "      <td>10</td>\n",
       "      <td>1</td>\n",
       "      <td>0</td>\n",
       "      <td>0</td>\n",
       "      <td>0</td>\n",
       "      <td>0</td>\n",
       "      <td>36</td>\n",
       "      <td>39</td>\n",
       "      <td>0</td>\n",
       "    </tr>\n",
       "    <tr>\n",
       "      <th>48838</th>\n",
       "      <td>60</td>\n",
       "      <td>2</td>\n",
       "      <td>321403</td>\n",
       "      <td>11</td>\n",
       "      <td>9</td>\n",
       "      <td>6</td>\n",
       "      <td>7</td>\n",
       "      <td>2</td>\n",
       "      <td>1</td>\n",
       "      <td>1</td>\n",
       "      <td>0</td>\n",
       "      <td>0</td>\n",
       "      <td>40</td>\n",
       "      <td>39</td>\n",
       "      <td>0</td>\n",
       "    </tr>\n",
       "    <tr>\n",
       "      <th>48839</th>\n",
       "      <td>30</td>\n",
       "      <td>4</td>\n",
       "      <td>374983</td>\n",
       "      <td>9</td>\n",
       "      <td>13</td>\n",
       "      <td>2</td>\n",
       "      <td>10</td>\n",
       "      <td>0</td>\n",
       "      <td>0</td>\n",
       "      <td>1</td>\n",
       "      <td>0</td>\n",
       "      <td>0</td>\n",
       "      <td>50</td>\n",
       "      <td>39</td>\n",
       "      <td>0</td>\n",
       "    </tr>\n",
       "    <tr>\n",
       "      <th>48840</th>\n",
       "      <td>40</td>\n",
       "      <td>4</td>\n",
       "      <td>83891</td>\n",
       "      <td>9</td>\n",
       "      <td>13</td>\n",
       "      <td>0</td>\n",
       "      <td>0</td>\n",
       "      <td>3</td>\n",
       "      <td>1</td>\n",
       "      <td>1</td>\n",
       "      <td>5455</td>\n",
       "      <td>0</td>\n",
       "      <td>40</td>\n",
       "      <td>39</td>\n",
       "      <td>0</td>\n",
       "    </tr>\n",
       "    <tr>\n",
       "      <th>48841</th>\n",
       "      <td>30</td>\n",
       "      <td>5</td>\n",
       "      <td>182148</td>\n",
       "      <td>9</td>\n",
       "      <td>13</td>\n",
       "      <td>2</td>\n",
       "      <td>3</td>\n",
       "      <td>0</td>\n",
       "      <td>0</td>\n",
       "      <td>1</td>\n",
       "      <td>0</td>\n",
       "      <td>0</td>\n",
       "      <td>60</td>\n",
       "      <td>39</td>\n",
       "      <td>1</td>\n",
       "    </tr>\n",
       "  </tbody>\n",
       "</table>\n",
       "<p>48842 rows × 15 columns</p>\n",
       "</div>"
      ],
      "text/plain": [
       "      age  workclass  fnlwgt  education education-num  marital_status  \\\n",
       "0      30          7   77516          9            13               4   \n",
       "1      50          6   83311          9            13               2   \n",
       "2      30          4  215646         11             9               0   \n",
       "3      50          4  234721          1             7               2   \n",
       "4      20          4  338409          9            13               2   \n",
       "...    ..        ...     ...        ...           ...             ...   \n",
       "48837  30          4  215419          9            13               0   \n",
       "48838  60          2  321403         11             9               6   \n",
       "48839  30          4  374983          9            13               2   \n",
       "48840  40          4   83891          9            13               0   \n",
       "48841  30          5  182148          9            13               2   \n",
       "\n",
       "       occupation  relationship race sex capital-gain capital-loss  \\\n",
       "0               0             1    0   1         2174            0   \n",
       "1               3             0    0   1            0            0   \n",
       "2               5             1    0   1            0            0   \n",
       "3               5             0    1   1            0            0   \n",
       "4              10             5    1   0            0            0   \n",
       "...           ...           ...  ...  ..          ...          ...   \n",
       "48837          10             1    0   0            0            0   \n",
       "48838           7             2    1   1            0            0   \n",
       "48839          10             0    0   1            0            0   \n",
       "48840           0             3    1   1         5455            0   \n",
       "48841           3             0    0   1            0            0   \n",
       "\n",
       "      hours-per-week  native_country Probability  \n",
       "0                 40              39           0  \n",
       "1                 13              39           0  \n",
       "2                 40              39           0  \n",
       "3                 40              39           0  \n",
       "4                 40               4           0  \n",
       "...              ...             ...         ...  \n",
       "48837             36              39           0  \n",
       "48838             40              39           0  \n",
       "48839             50              39           0  \n",
       "48840             40              39           0  \n",
       "48841             60              39           1  \n",
       "\n",
       "[48842 rows x 15 columns]"
      ]
     },
     "execution_count": 41,
     "metadata": {},
     "output_type": "execute_result"
    }
   ],
   "source": [
    "dataset"
   ]
  },
  {
   "cell_type": "code",
   "execution_count": 30,
   "id": "841a9c7d",
   "metadata": {},
   "outputs": [],
   "source": [
    "\n",
    "features_df = dataset.iloc[:, :14]\n",
    "features_array = features_df.to_numpy()\n"
   ]
  },
  {
   "cell_type": "code",
   "execution_count": 31,
   "id": "adae894e",
   "metadata": {},
   "outputs": [],
   "source": [
    "target_col = dataset['Probability']\n",
    "target_array = target_col.to_numpy()"
   ]
  },
  {
   "cell_type": "code",
   "execution_count": 32,
   "id": "7c31d95b",
   "metadata": {
    "scrolled": true
   },
   "outputs": [
    {
     "data": {
      "text/plain": [
       "array([['30', 7, '77516', ..., '0', '40', 39],\n",
       "       ['50', 6, '83311', ..., '0', '13', 39],\n",
       "       ['30', 4, '215646', ..., '0', '40', 39],\n",
       "       ...,\n",
       "       ['30', 4, '374983', ..., '0', '50', 39],\n",
       "       ['40', 4, '83891', ..., '0', '40', 39],\n",
       "       ['30', 5, '182148', ..., '0', '60', 39]], dtype=object)"
      ]
     },
     "execution_count": 32,
     "metadata": {},
     "output_type": "execute_result"
    }
   ],
   "source": [
    "#feature_cols = [col for col in dataset.columns if col != 'Probability']\n",
    "#target_col = 'Probability'\n",
    "features_array"
   ]
  },
  {
   "cell_type": "code",
   "execution_count": 33,
   "id": "fc770349",
   "metadata": {},
   "outputs": [],
   "source": [
    "features_array = features_array.astype(int)\n"
   ]
  },
  {
   "cell_type": "code",
   "execution_count": 34,
   "id": "ba5ba5ee",
   "metadata": {},
   "outputs": [
    {
     "data": {
      "text/plain": [
       "array([[    30,      7,  77516, ...,      0,     40,     39],\n",
       "       [    50,      6,  83311, ...,      0,     13,     39],\n",
       "       [    30,      4, 215646, ...,      0,     40,     39],\n",
       "       ...,\n",
       "       [    30,      4, 374983, ...,      0,     50,     39],\n",
       "       [    40,      4,  83891, ...,      0,     40,     39],\n",
       "       [    30,      5, 182148, ...,      0,     60,     39]])"
      ]
     },
     "execution_count": 34,
     "metadata": {},
     "output_type": "execute_result"
    }
   ],
   "source": [
    "features_array"
   ]
  },
  {
   "cell_type": "code",
   "execution_count": 35,
   "id": "e4ffbca5",
   "metadata": {},
   "outputs": [
    {
     "data": {
      "text/plain": [
       "array(['0', '0', '0', ..., '0', '0', '1'], dtype=object)"
      ]
     },
     "execution_count": 35,
     "metadata": {},
     "output_type": "execute_result"
    }
   ],
   "source": [
    "target_array"
   ]
  },
  {
   "cell_type": "code",
   "execution_count": 36,
   "id": "1f6b7b2a",
   "metadata": {},
   "outputs": [
    {
     "data": {
      "text/plain": [
       "array([0, 0, 0, ..., 0, 0, 1])"
      ]
     },
     "execution_count": 36,
     "metadata": {},
     "output_type": "execute_result"
    }
   ],
   "source": [
    "target_array = target_array.astype(int)\n",
    "\n",
    "target_array"
   ]
  },
  {
   "cell_type": "code",
   "execution_count": 68,
   "id": "36f9d2d5",
   "metadata": {},
   "outputs": [],
   "source": [
    "#data = pd.DataFrame(columns=dataset[feature_cols])\n",
    "#tar = pd.DataFrame(columns=dataset[target_col])"
   ]
  },
  {
   "cell_type": "code",
   "execution_count": 69,
   "id": "add724ea",
   "metadata": {
    "scrolled": true
   },
   "outputs": [],
   "source": [
    "#import numpy as np\n",
    "#X = np.array(dataset[feature_cols])\n",
    "#y = np.array(dataset['Probability'])\n",
    "\n"
   ]
  },
  {
   "cell_type": "code",
   "execution_count": 70,
   "id": "e605fdb3",
   "metadata": {},
   "outputs": [],
   "source": [
    "#X"
   ]
  },
  {
   "cell_type": "code",
   "execution_count": 71,
   "id": "6f3a2580",
   "metadata": {},
   "outputs": [],
   "source": [
    "#y"
   ]
  },
  {
   "cell_type": "code",
   "execution_count": 37,
   "id": "6dd40152",
   "metadata": {},
   "outputs": [
    {
     "name": "stderr",
     "output_type": "stream",
     "text": [
      "/Users/mkr01/opt/anaconda3/lib/python3.9/site-packages/pymfe/_internal.py:1568: UserWarning: It is not possible make equal discretization\n",
      "  warnings.warn(\"It is not possible make equal discretization\")\n",
      "/Users/mkr01/opt/anaconda3/lib/python3.9/site-packages/pymfe/statistical.py:1267: RuntimeWarning: invalid value encountered in log\n",
      "  np.log(np.linalg.det(S_i)) for S_i in sample_cov_matrices\n",
      "/Users/mkr01/opt/anaconda3/lib/python3.9/site-packages/pymfe/statistical.py:1272: RuntimeWarning: invalid value encountered in log\n",
      "  * np.log(np.linalg.det(pooled_cov_mat))\n"
     ]
    },
    {
     "name": "stdout",
     "output_type": "stream",
     "text": [
      "(['attr_conc.quantiles.0', 'attr_conc.quantiles.1', 'attr_conc.quantiles.2', 'attr_conc.quantiles.3', 'attr_conc.quantiles.4', 'attr_ent.quantiles.0', 'attr_ent.quantiles.1', 'attr_ent.quantiles.2', 'attr_ent.quantiles.3', 'attr_ent.quantiles.4', 'attr_to_inst', 'best_node.quantiles.0', 'best_node.quantiles.1', 'best_node.quantiles.2', 'best_node.quantiles.3', 'best_node.quantiles.4', 'can_cor.quantiles.0', 'can_cor.quantiles.1', 'can_cor.quantiles.2', 'can_cor.quantiles.3', 'can_cor.quantiles.4', 'cat_to_num', 'class_conc.quantiles.0', 'class_conc.quantiles.1', 'class_conc.quantiles.2', 'class_conc.quantiles.3', 'class_conc.quantiles.4', 'class_ent', 'cor.quantiles.0', 'cor.quantiles.1', 'cor.quantiles.2', 'cor.quantiles.3', 'cor.quantiles.4', 'cov.quantiles.0', 'cov.quantiles.1', 'cov.quantiles.2', 'cov.quantiles.3', 'cov.quantiles.4', 'eigenvalues.quantiles.0', 'eigenvalues.quantiles.1', 'eigenvalues.quantiles.2', 'eigenvalues.quantiles.3', 'eigenvalues.quantiles.4', 'elite_nn.quantiles.0', 'elite_nn.quantiles.1', 'elite_nn.quantiles.2', 'elite_nn.quantiles.3', 'elite_nn.quantiles.4', 'eq_num_attr', 'freq_class.quantiles.0', 'freq_class.quantiles.1', 'freq_class.quantiles.2', 'freq_class.quantiles.3', 'freq_class.quantiles.4', 'g_mean.quantiles.0', 'g_mean.quantiles.1', 'g_mean.quantiles.2', 'g_mean.quantiles.3', 'g_mean.quantiles.4', 'gravity', 'h_mean.quantiles.0', 'h_mean.quantiles.1', 'h_mean.quantiles.2', 'h_mean.quantiles.3', 'h_mean.quantiles.4', 'inst_to_attr', 'iq_range.quantiles.0', 'iq_range.quantiles.1', 'iq_range.quantiles.2', 'iq_range.quantiles.3', 'iq_range.quantiles.4', 'joint_ent.quantiles.0', 'joint_ent.quantiles.1', 'joint_ent.quantiles.2', 'joint_ent.quantiles.3', 'joint_ent.quantiles.4', 'kurtosis.quantiles.0', 'kurtosis.quantiles.1', 'kurtosis.quantiles.2', 'kurtosis.quantiles.3', 'kurtosis.quantiles.4', 'leaves', 'leaves_branch.quantiles.0', 'leaves_branch.quantiles.1', 'leaves_branch.quantiles.2', 'leaves_branch.quantiles.3', 'leaves_branch.quantiles.4', 'leaves_corrob.quantiles.0', 'leaves_corrob.quantiles.1', 'leaves_corrob.quantiles.2', 'leaves_corrob.quantiles.3', 'leaves_corrob.quantiles.4', 'leaves_homo.quantiles.0', 'leaves_homo.quantiles.1', 'leaves_homo.quantiles.2', 'leaves_homo.quantiles.3', 'leaves_homo.quantiles.4', 'leaves_per_class.quantiles.0', 'leaves_per_class.quantiles.1', 'leaves_per_class.quantiles.2', 'leaves_per_class.quantiles.3', 'leaves_per_class.quantiles.4', 'lh_trace', 'linear_discr.quantiles.0', 'linear_discr.quantiles.1', 'linear_discr.quantiles.2', 'linear_discr.quantiles.3', 'linear_discr.quantiles.4', 'mad.quantiles.0', 'mad.quantiles.1', 'mad.quantiles.2', 'mad.quantiles.3', 'mad.quantiles.4', 'max.quantiles.0', 'max.quantiles.1', 'max.quantiles.2', 'max.quantiles.3', 'max.quantiles.4', 'mean.quantiles.0', 'mean.quantiles.1', 'mean.quantiles.2', 'mean.quantiles.3', 'mean.quantiles.4', 'median.quantiles.0', 'median.quantiles.1', 'median.quantiles.2', 'median.quantiles.3', 'median.quantiles.4', 'min.quantiles.0', 'min.quantiles.1', 'min.quantiles.2', 'min.quantiles.3', 'min.quantiles.4', 'mut_inf.quantiles.0', 'mut_inf.quantiles.1', 'mut_inf.quantiles.2', 'mut_inf.quantiles.3', 'mut_inf.quantiles.4', 'naive_bayes.quantiles.0', 'naive_bayes.quantiles.1', 'naive_bayes.quantiles.2', 'naive_bayes.quantiles.3', 'naive_bayes.quantiles.4', 'nodes', 'nodes_per_attr', 'nodes_per_inst', 'nodes_per_level.quantiles.0', 'nodes_per_level.quantiles.1', 'nodes_per_level.quantiles.2', 'nodes_per_level.quantiles.3', 'nodes_per_level.quantiles.4', 'nodes_repeated.quantiles.0', 'nodes_repeated.quantiles.1', 'nodes_repeated.quantiles.2', 'nodes_repeated.quantiles.3', 'nodes_repeated.quantiles.4', 'nr_attr', 'nr_bin', 'nr_cat', 'nr_class', 'nr_cor_attr', 'nr_disc', 'nr_inst', 'nr_norm', 'nr_num', 'nr_outliers', 'ns_ratio', 'num_to_cat', 'one_nn.quantiles.0', 'one_nn.quantiles.1', 'one_nn.quantiles.2', 'one_nn.quantiles.3', 'one_nn.quantiles.4', 'p_trace', 'random_node.quantiles.0', 'random_node.quantiles.1', 'random_node.quantiles.2', 'random_node.quantiles.3', 'random_node.quantiles.4', 'range.quantiles.0', 'range.quantiles.1', 'range.quantiles.2', 'range.quantiles.3', 'range.quantiles.4', 'roy_root', 'sd.quantiles.0', 'sd.quantiles.1', 'sd.quantiles.2', 'sd.quantiles.3', 'sd.quantiles.4', 'sd_ratio', 'skewness.quantiles.0', 'skewness.quantiles.1', 'skewness.quantiles.2', 'skewness.quantiles.3', 'skewness.quantiles.4', 'sparsity.quantiles.0', 'sparsity.quantiles.1', 'sparsity.quantiles.2', 'sparsity.quantiles.3', 'sparsity.quantiles.4', 't_mean.quantiles.0', 't_mean.quantiles.1', 't_mean.quantiles.2', 't_mean.quantiles.3', 't_mean.quantiles.4', 'tree_depth.quantiles.0', 'tree_depth.quantiles.1', 'tree_depth.quantiles.2', 'tree_depth.quantiles.3', 'tree_depth.quantiles.4', 'tree_imbalance.quantiles.0', 'tree_imbalance.quantiles.1', 'tree_imbalance.quantiles.2', 'tree_imbalance.quantiles.3', 'tree_imbalance.quantiles.4', 'tree_shape.quantiles.0', 'tree_shape.quantiles.1', 'tree_shape.quantiles.2', 'tree_shape.quantiles.3', 'tree_shape.quantiles.4', 'var.quantiles.0', 'var.quantiles.1', 'var.quantiles.2', 'var.quantiles.3', 'var.quantiles.4', 'var_importance.quantiles.0', 'var_importance.quantiles.1', 'var_importance.quantiles.2', 'var_importance.quantiles.3', 'var_importance.quantiles.4', 'w_lambda', 'worst_node.quantiles.0', 'worst_node.quantiles.1', 'worst_node.quantiles.2', 'worst_node.quantiles.3', 'worst_node.quantiles.4'], [5.727151189366362e-05, 0.001821037076460496, 0.006912306961637541, 0.014162242959654986, 0.927539542034787, 0.3179017246649503, 0.6769240585536828, 1.951781180086671, 2.728136327568471, 5.1699230069650675, 0.00028663854878997584, 0.7606470106470107, 0.7606470106470107, 0.7606715094176711, 0.7608128226859036, 0.7608517608517609, 0.5094212263121097, 0.5094212263121097, 0.5094212263121097, 0.5094212263121097, 0.5094212263121097, 0.0, 7.654152757563568e-05, 0.0071027285785841224, 0.014823502975992891, 0.040986600422044064, 0.11589484390870688, 0.7938438393644257, 0.0016140993455206157, 0.013286698406230361, 0.03741678535215459, 0.0778671177811297, 0.5797968852311937, 0.006484497625182269, 0.14452288872409036, 1.5173272829613649, 285.148068783687, 2916791.4789536437, 0.11796434931579083, 2.082606167382724, 17.431829774980855, 169.46564350682502, 11152210956.573475, 0.6756756756756757, 0.6802825552825553, 0.6832514332514332, 0.6845311220311221, 0.6853633572159672, 12.806518025615137, 0.23928176569346055, 0.3696408828467303, 0.5, 0.6303591171532698, 0.7607182343065395, 0.0, 0.0, 0.0, 7.2492546439721846, 160003.39315358704, 4201.674177981582, 0.0, 0.0, 0.0, 6.782637304102357, 126265.32242102736, 3488.714285714286, 0.0, 0.0, 2.5, 4.5, 120091.5, 1.0898630773864106, 1.4574723284085696, 2.6052968178912588, 3.4385102935223673, 5.96184241997179, -1.4877075690816042, -0.4980951290368194, 1.0493458333730172, 5.280148399555856, 152.67096790524675, 7721, 4.0, 18.0, 22.0, 27.0, 62.0, 2.0474182056426847e-05, 2.0474182056426847e-05, 4.0948364112853693e-05, 8.189672822570739e-05, 0.0713934728307604, 30884.0, 112445212.44444445, 1472010053.8181818, 38381299181.03704, 5.7430367335932035e+20, 0.4718300738246341, 0.485915036912317, 0.5, 0.5140849630876829, 0.5281699261753658, 0.3504571038729997, 0.8085585585585585, 0.8114250614250614, 0.8155389478060922, 0.8166973791973792, 0.8185913185913186, 0.0, 0.0, 1.4826, 4.07715, 89394.10829999999, 1.0, 6.5, 15.5, 91.75, 1490400.0, 0.14495720895950207, 2.9369446378117194, 10.183254166496049, 39.602642193194384, 189664.13459727284, 0.0, 1.0, 5.5, 25.25, 178144.5, 0.0, 0.0, 0.0, 0.75, 12285.0, 0.0013793296950026512, 0.021964705366470716, 0.05852934499763118, 0.08680509731916819, 0.1654227554330019, 0.7911547911547911, 0.7922616368112786, 0.7938376056339209, 0.7964782964782965, 0.8034398034398035, 7720, 551.4285714285714, 0.15806068547561525, 1.0, 6.25, 44.0, 212.25, 470.0, 49.0, 144.25, 181.5, 481.0, 3845.0, 14, 2, 0, 2, 0.01098901098901099, 1, 48842, 0.0, 14, 9, 31.047677255398497, nan, 0.7307534807534808, 0.737677170750354, 0.7393529893529893, 0.7411445536445536, 0.7465711361310133, 0.2595099858173337, 0.7606470106470107, 0.7606470106470107, 0.7606715094176711, 0.7608128226859036, 0.7608517608517609, 1.0, 6.5, 15.0, 86.75, 1478115.0, 0.3504571038729997, 0.3520612933095241, 1.5313147193002008, 4.106614528658322, 13.0602595573476, 105604.02542315728, nan, -3.8959979112215644, -0.5155968475714683, 0.16235718764119222, 1.2770202935780728, 11.893928406318857, 1.4585542297228138e-05, 0.013744688181572665, 0.06456418105007405, 0.13490292276557916, 0.49998976269937145, 0.0, 0.8534771036647786, 5.161724561523238, 27.179075957141883, 177397.70920630588, 0.0, 17.0, 21.0, 26.0, 62.0, 0.0, 4.620942731752941e-14, 1.5832483564922117e-08, 0.0011795911195728475, 0.16464864003499685, 1.3444106938820255e-17, 2.0116567611694336e-07, 5.245208740234375e-06, 6.866455078125e-05, 0.25, 0.12394715424677477, 2.346597373084932, 16.91816355409452, 170.71948444439255, 11152210185.574848, 0.0029357820705857816, 0.013625670132611005, 0.042761065051031805, 0.10501869970544497, 0.26003616291770776, 0.7404900141826662, 0.7606470106470107, 0.7606470106470107, 0.7606715094176711, 0.7608128226859036, 0.7608517608517609])\n"
     ]
    }
   ],
   "source": [
    "from pymfe.mfe import MFE\n",
    "mfe = MFE(summary=[\"quantiles\"])\n",
    "mfe.fit(features_array, target_array)\n",
    "ft = mfe.extract()\n",
    "print(ft)\n"
   ]
  },
  {
   "cell_type": "code",
   "execution_count": null,
   "id": "6bb148b3",
   "metadata": {},
   "outputs": [],
   "source": [
    "## Save to csv  \n",
    "#dataset.to_csv('Data/Adult/datanew.csv', index=False)"
   ]
  },
  {
   "cell_type": "code",
   "execution_count": 38,
   "id": "3a0abbaf",
   "metadata": {},
   "outputs": [],
   "source": [
    "df = pd.DataFrame(ft)"
   ]
  },
  {
   "cell_type": "code",
   "execution_count": 39,
   "id": "533df981",
   "metadata": {},
   "outputs": [
    {
     "data": {
      "text/html": [
       "<div>\n",
       "<style scoped>\n",
       "    .dataframe tbody tr th:only-of-type {\n",
       "        vertical-align: middle;\n",
       "    }\n",
       "\n",
       "    .dataframe tbody tr th {\n",
       "        vertical-align: top;\n",
       "    }\n",
       "\n",
       "    .dataframe thead th {\n",
       "        text-align: right;\n",
       "    }\n",
       "</style>\n",
       "<table border=\"1\" class=\"dataframe\">\n",
       "  <thead>\n",
       "    <tr style=\"text-align: right;\">\n",
       "      <th></th>\n",
       "      <th>0</th>\n",
       "      <th>1</th>\n",
       "      <th>2</th>\n",
       "      <th>3</th>\n",
       "      <th>4</th>\n",
       "      <th>5</th>\n",
       "      <th>6</th>\n",
       "      <th>7</th>\n",
       "      <th>8</th>\n",
       "      <th>9</th>\n",
       "      <th>...</th>\n",
       "      <th>227</th>\n",
       "      <th>228</th>\n",
       "      <th>229</th>\n",
       "      <th>230</th>\n",
       "      <th>231</th>\n",
       "      <th>232</th>\n",
       "      <th>233</th>\n",
       "      <th>234</th>\n",
       "      <th>235</th>\n",
       "      <th>236</th>\n",
       "    </tr>\n",
       "  </thead>\n",
       "  <tbody>\n",
       "    <tr>\n",
       "      <th>0</th>\n",
       "      <td>attr_conc.quantiles.0</td>\n",
       "      <td>attr_conc.quantiles.1</td>\n",
       "      <td>attr_conc.quantiles.2</td>\n",
       "      <td>attr_conc.quantiles.3</td>\n",
       "      <td>attr_conc.quantiles.4</td>\n",
       "      <td>attr_ent.quantiles.0</td>\n",
       "      <td>attr_ent.quantiles.1</td>\n",
       "      <td>attr_ent.quantiles.2</td>\n",
       "      <td>attr_ent.quantiles.3</td>\n",
       "      <td>attr_ent.quantiles.4</td>\n",
       "      <td>...</td>\n",
       "      <td>var_importance.quantiles.1</td>\n",
       "      <td>var_importance.quantiles.2</td>\n",
       "      <td>var_importance.quantiles.3</td>\n",
       "      <td>var_importance.quantiles.4</td>\n",
       "      <td>w_lambda</td>\n",
       "      <td>worst_node.quantiles.0</td>\n",
       "      <td>worst_node.quantiles.1</td>\n",
       "      <td>worst_node.quantiles.2</td>\n",
       "      <td>worst_node.quantiles.3</td>\n",
       "      <td>worst_node.quantiles.4</td>\n",
       "    </tr>\n",
       "    <tr>\n",
       "      <th>1</th>\n",
       "      <td>0.000057</td>\n",
       "      <td>0.001821</td>\n",
       "      <td>0.006912</td>\n",
       "      <td>0.014162</td>\n",
       "      <td>0.92754</td>\n",
       "      <td>0.317902</td>\n",
       "      <td>0.676924</td>\n",
       "      <td>1.951781</td>\n",
       "      <td>2.728136</td>\n",
       "      <td>5.169923</td>\n",
       "      <td>...</td>\n",
       "      <td>0.013626</td>\n",
       "      <td>0.042761</td>\n",
       "      <td>0.105019</td>\n",
       "      <td>0.260036</td>\n",
       "      <td>0.74049</td>\n",
       "      <td>0.760647</td>\n",
       "      <td>0.760647</td>\n",
       "      <td>0.760672</td>\n",
       "      <td>0.760813</td>\n",
       "      <td>0.760852</td>\n",
       "    </tr>\n",
       "  </tbody>\n",
       "</table>\n",
       "<p>2 rows × 237 columns</p>\n",
       "</div>"
      ],
      "text/plain": [
       "                     0                      1                      2    \\\n",
       "0  attr_conc.quantiles.0  attr_conc.quantiles.1  attr_conc.quantiles.2   \n",
       "1               0.000057               0.001821               0.006912   \n",
       "\n",
       "                     3                      4                     5    \\\n",
       "0  attr_conc.quantiles.3  attr_conc.quantiles.4  attr_ent.quantiles.0   \n",
       "1               0.014162                0.92754              0.317902   \n",
       "\n",
       "                    6                     7                     8    \\\n",
       "0  attr_ent.quantiles.1  attr_ent.quantiles.2  attr_ent.quantiles.3   \n",
       "1              0.676924              1.951781              2.728136   \n",
       "\n",
       "                    9    ...                         227  \\\n",
       "0  attr_ent.quantiles.4  ...  var_importance.quantiles.1   \n",
       "1              5.169923  ...                    0.013626   \n",
       "\n",
       "                          228                         229  \\\n",
       "0  var_importance.quantiles.2  var_importance.quantiles.3   \n",
       "1                    0.042761                    0.105019   \n",
       "\n",
       "                          230       231                     232  \\\n",
       "0  var_importance.quantiles.4  w_lambda  worst_node.quantiles.0   \n",
       "1                    0.260036   0.74049                0.760647   \n",
       "\n",
       "                      233                     234                     235  \\\n",
       "0  worst_node.quantiles.1  worst_node.quantiles.2  worst_node.quantiles.3   \n",
       "1                0.760647                0.760672                0.760813   \n",
       "\n",
       "                      236  \n",
       "0  worst_node.quantiles.4  \n",
       "1                0.760852  \n",
       "\n",
       "[2 rows x 237 columns]"
      ]
     },
     "execution_count": 39,
     "metadata": {},
     "output_type": "execute_result"
    }
   ],
   "source": [
    "df"
   ]
  },
  {
   "cell_type": "code",
   "execution_count": 40,
   "id": "4d18b8bf",
   "metadata": {},
   "outputs": [],
   "source": [
    "df.to_csv('quantiles.csv', index=False)\n"
   ]
  },
  {
   "cell_type": "code",
   "execution_count": null,
   "id": "5b5b7319",
   "metadata": {},
   "outputs": [],
   "source": []
  }
 ],
 "metadata": {
  "kernelspec": {
   "display_name": "Python 3 (ipykernel)",
   "language": "python",
   "name": "python3"
  },
  "language_info": {
   "codemirror_mode": {
    "name": "ipython",
    "version": 3
   },
   "file_extension": ".py",
   "mimetype": "text/x-python",
   "name": "python",
   "nbconvert_exporter": "python",
   "pygments_lexer": "ipython3",
   "version": "3.9.12"
  }
 },
 "nbformat": 4,
 "nbformat_minor": 5
}
